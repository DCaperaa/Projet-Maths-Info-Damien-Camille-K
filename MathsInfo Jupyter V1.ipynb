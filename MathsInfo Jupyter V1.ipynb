{
 "cells": [
  {
   "cell_type": "markdown",
   "metadata": {},
   "source": [
    "# Projet numérique - Calcul différentiel II - Damien Capéraa & Camille Klopocki"
   ]
  },
  {
   "cell_type": "code",
   "execution_count": 3,
   "metadata": {},
   "outputs": [],
   "source": [
    "import matplotlib.pyplot as plt\n",
    "import autograd\n",
    "from autograd import numpy as np\n",
    "from numpy import linalg\n",
    "import itertools"
   ]
  },
  {
   "cell_type": "markdown",
   "metadata": {},
   "source": [
    "## Amorce pour le contour simple"
   ]
  },
  {
   "cell_type": "markdown",
   "metadata": {},
   "source": [
    "On considère une fonction f définie dans le carré unité [0,1]². On cherche y tel que *f(0,y) = c* pour c réel.\n",
    "Nous avons choisi une méthode par dichotomie pour `find_seed`.La contrainte de cette méthode est qu'elle suppose une hypothèse forte : *f(0,y) - c* et *f(1,y) - c* doivent être de signes opposés.\\\n",
    "\\\n",
    "*NB :* Cette hypothèse forte a le mérite d'être facile à tester et peut gênante. C'est pourquoi nous l'avons gardé pour la méthode des petits carrés qui suit. \n",
    "\n",
    "**Justification mathématique de la correction de la dichotomie:**\\\n",
    "f est supposée continûment différentiable sur son domaine de définition [0,1]². f est donc continue sur [0,1]². Ainsi si *f(0,y) - c* et *f(1,y) - c* sont de signes opposés, alors, par le théorème des valeurs intermédiaires, il existe un réel t de [0,1] tel que *f(0,t) - c = 0*."
   ]
  },
  {
   "cell_type": "code",
   "execution_count": 4,
   "metadata": {},
   "outputs": [],
   "source": [
    "def find_seed(f, c, eps=2**(-26)) :\n",
    "    \n",
    "    def g(y) :\n",
    "        return f(0,y) - c\n",
    "    \n",
    "    a, b = 0, 1\n",
    "    \n",
    "    if g(a)*g(b) >= 0 :\n",
    "        if g(b)==0 :\n",
    "            return b\n",
    "        if g(a)==0 :\n",
    "            return a\n",
    "        else : #dans ce cas, notre hypothèse n'est pas vérifiée\n",
    "            return None\n",
    "\n",
    "    while b-a >= 2*eps :\n",
    "        m = (a+b)/2\n",
    "        if g(m)==0 :\n",
    "            return m\n",
    "        if g(m)*g(b) >= 0 :\n",
    "            b = m\n",
    "        else :\n",
    "            a = m\n",
    "    return (a+b)/2 #Comme l'intervalle est de taille au plus 2*eps, on renvoit bien le 0 à + ou - eps."
   ]
  },
  {
   "cell_type": "markdown",
   "metadata": {},
   "source": [
    "On vérifie la fonction en introduisant l'application de l'énoncé `f_enonce` :"
   ]
  },
  {
   "cell_type": "code",
   "execution_count": 5,
   "metadata": {
    "scrolled": true
   },
   "outputs": [
    {
     "data": {
      "text/plain": [
       "0.7250969037413597"
      ]
     },
     "execution_count": 5,
     "metadata": {},
     "output_type": "execute_result"
    }
   ],
   "source": [
    "def f_enonce(x,y) :\n",
    "    return 2*(np.exp(-x**2 -y**2) - np.exp(-(x-1)**2 - (y-1)**2))\n",
    "find_seed(f_enonce, 0.5)"
   ]
  },
  {
   "cell_type": "markdown",
   "metadata": {},
   "source": [
    "## Idée 1 : La méthode du scan"
   ]
  },
  {
   "cell_type": "markdown",
   "metadata": {},
   "source": [
    "### Description"
   ]
  },
  {
   "cell_type": "markdown",
   "metadata": {},
   "source": [
    "**Principe :** On effectue un scan du carré d'étude [0,1]² de gauche à droite en stockant toutes les racines trouvées pour pouvoir les afficher ensuite. \n",
    "\n",
    "*Remarque :* Avec cette méthode, on peut trouver des lignes de niveau qui ne commence pas sur le côté gauche."
   ]
  },
  {
   "cell_type": "markdown",
   "metadata": {},
   "source": [
    "### Place au code"
   ]
  },
  {
   "cell_type": "markdown",
   "metadata": {},
   "source": [
    "On adapte notre première fonction `find_seed` pour qu'elle puisse être utilisée à tout x0 constant. On code ainsi la fonction `find_seed_x0` suivante :\\\n",
    "*NB :* La fonction ici présentée est celle que nous utilisons dans la méthode des petits carrés. C'est donc une version aboutie avec des variables \"généralisées\" valminy et valmaxy (bornes pour y)."
   ]
  },
  {
   "cell_type": "code",
   "execution_count": 6,
   "metadata": {},
   "outputs": [],
   "source": [
    "valminy=0\n",
    "valmaxy=1\n",
    "eps = 2**(-26)\n",
    "def find_seed_x0(f, c, x0, valminy, valmaxy) :   #valmin et valmax sont les bornes entre lesquelles on veut que y varie.\n",
    "    \n",
    "    a, b = valminy, valmaxy\n",
    "    \n",
    "    def g(y) :\n",
    "        return f(x0,y) - c\n",
    "    \n",
    "    if g(a)*g(b) >= 0 :\n",
    "        if g(b)==0 :\n",
    "            return b\n",
    "        if g(a)==0 :\n",
    "            return a\n",
    "        else : #dans ce cas, notre hypothèse n'est pas vérifiée.\n",
    "            return None\n",
    "\n",
    "    while b-a >= 2*eps :\n",
    "        m = (a+b)/2\n",
    "        if g(m)==0 :\n",
    "            return m\n",
    "        if g(m)*g(b) >= 0 :\n",
    "            b = m\n",
    "        else :\n",
    "            a = m\n",
    "    return (a+b)/2 #Comme l'intervalle est de taille au plus 2*eps, on renvoit bien le 0 à + ou - eps."
   ]
  },
  {
   "cell_type": "markdown",
   "metadata": {},
   "source": [
    "Voici la fonction `simple_contour_scan_X`qui permet d'effectuer le scan selon les x :"
   ]
  },
  {
   "cell_type": "code",
   "execution_count": 7,
   "metadata": {},
   "outputs": [],
   "source": [
    "delta=0.01 #valeur arbitraire qui permet d'avoir une résolution assez bonne.\n",
    "def simple_contour_scan_X(f, c) :\n",
    "    abscisses=[]\n",
    "    ordonnées=[]\n",
    "    X = 0\n",
    "    while X <= 1 :\n",
    "        y = find_seed_x0(f, c, X, 0, 1)\n",
    "        if y != None :\n",
    "            abscisses.append(X)\n",
    "            ordonnées.append(y)\n",
    "        X = X + delta\n",
    "    return abscisses, ordonnées"
   ]
  },
  {
   "cell_type": "markdown",
   "metadata": {},
   "source": [
    "On teste le programme :"
   ]
  },
  {
   "cell_type": "code",
   "execution_count": 8,
   "metadata": {},
   "outputs": [
    {
     "data": {
      "image/png": "[encoded data removed]",
      "text/plain": [
       "<Figure size 432x288 with 1 Axes>"
      ]
     },
     "metadata": {
      "needs_background": "light"
     },
     "output_type": "display_data"
    }
   ],
   "source": [
    "def ensemble_lignes(f) :\n",
    "    for c in [0, 0.5, 1, 1.5, -0.5, -1, -1.5] :\n",
    "        X, Y = simple_contour_scan_X(f_enonce, c)\n",
    "        plt.plot(X,Y)\n",
    "    plt.show()\n",
    "        \n",
    "ensemble_lignes(f_enonce)"
   ]
  },
  {
   "cell_type": "markdown",
   "metadata": {},
   "source": [
    "On voit que la méthode du scan est tout à fait satisfaisante pour tracer les lignes de niveau de `f_enonce`sur le pavé [0,1]²."
   ]
  },
  {
   "cell_type": "markdown",
   "metadata": {},
   "source": [
    "**Limites de la méthode du scan :** \n",
    "1. Aucune racine n'est trouvée s'il y a plusieurs racines à un y fixé car alors  l'hypothèse *g(a) x g(b) < 0* n'est plus vérifiée.\n",
    "2. Une racine au maximum est trouvée sur chaque verticale étudiée par le scan. \\\n",
    "Il est donc impossible de tracer une ligne de niveau circulaire dans [0,1]² ou une situation de rebroussement par exemple."
   ]
  },
  {
   "cell_type": "code",
   "execution_count": 3,
   "metadata": {},
   "outputs": [
    {
     "ename": "NameError",
     "evalue": "name 'simple_contour_scan_X' is not defined",
     "output_type": "error",
     "traceback": [
      "\u001b[1;31m---------------------------------------------------------------------------\u001b[0m",
      "\u001b[1;31mNameError\u001b[0m                                 Traceback (most recent call last)",
      "\u001b[1;32m<ipython-input-3-910d4befa3fa>\u001b[0m in \u001b[0;36m<module>\u001b[1;34m\u001b[0m\n\u001b[0;32m     10\u001b[0m \u001b[1;33m\u001b[0m\u001b[0m\n\u001b[0;32m     11\u001b[0m \u001b[1;31m#(Affichage)\u001b[0m\u001b[1;33m\u001b[0m\u001b[1;33m\u001b[0m\u001b[1;33m\u001b[0m\u001b[0m\n\u001b[1;32m---> 12\u001b[1;33m \u001b[1;33m(\u001b[0m\u001b[0mX\u001b[0m\u001b[1;33m,\u001b[0m \u001b[0mY\u001b[0m\u001b[1;33m)\u001b[0m \u001b[1;33m=\u001b[0m \u001b[0msimple_contour_scan_X\u001b[0m\u001b[1;33m(\u001b[0m\u001b[0mf_circulaire1\u001b[0m\u001b[1;33m,\u001b[0m \u001b[1;36m0.4\u001b[0m\u001b[1;33m**\u001b[0m\u001b[1;36m2\u001b[0m\u001b[1;33m)\u001b[0m\u001b[1;33m\u001b[0m\u001b[1;33m\u001b[0m\u001b[0m\n\u001b[0m\u001b[0;32m     13\u001b[0m \u001b[1;33m(\u001b[0m\u001b[0mZ\u001b[0m\u001b[1;33m,\u001b[0m \u001b[0mW\u001b[0m\u001b[1;33m)\u001b[0m \u001b[1;33m=\u001b[0m \u001b[0msimple_contour_scan_X\u001b[0m\u001b[1;33m(\u001b[0m\u001b[0mf_circulaire2\u001b[0m\u001b[1;33m,\u001b[0m \u001b[1;36m0.4\u001b[0m\u001b[1;33m**\u001b[0m\u001b[1;36m2\u001b[0m\u001b[1;33m)\u001b[0m\u001b[1;33m\u001b[0m\u001b[1;33m\u001b[0m\u001b[0m\n\u001b[0;32m     14\u001b[0m \u001b[1;32mif\u001b[0m \u001b[0mlen\u001b[0m\u001b[1;33m(\u001b[0m\u001b[0mZ\u001b[0m\u001b[1;33m)\u001b[0m\u001b[1;33m==\u001b[0m\u001b[1;36m0\u001b[0m \u001b[1;33m:\u001b[0m\u001b[1;33m\u001b[0m\u001b[1;33m\u001b[0m\u001b[0m\n",
      "\u001b[1;31mNameError\u001b[0m: name 'simple_contour_scan_X' is not defined"
     ]
    }
   ],
   "source": [
    "#On affiche la ligne de niveau c=0.16 pour ces deux fonctions continues sur [0,1]². On va voir que :\n",
    "\n",
    "#Pour cette fonction les hypothèses sont vérifiées, on trace bien la portion du cercle sur [0,1]².\n",
    "def f_circulaire1 (x,y) :\n",
    "    return (x-0.5)**2 + y**2\n",
    "    \n",
    "#Pour celle-ci la méthode ne fonctionne pas pour les raisons évoquées dans les \"limites de la méthode du scan\".\n",
    "def f_circulaire2 (x,y) :\n",
    "    return x**2 + (y-0.5)**2\n",
    "\n",
    "#(Affichage)\n",
    "(X, Y) = simple_contour_scan_X(f_circulaire1, 0.4**2)\n",
    "(Z, W) = simple_contour_scan_X(f_circulaire2, 0.4**2)\n",
    "if len(Z)==0 :\n",
    "    print (\"Aucune racine trouvée avec la méthode du scan\")\n",
    "plt.scatter(X,Y)\n",
    "plt.scatter(Z,W)\n",
    "X1=np.linspace(-1, 1, 500)\n",
    "plt.plot([x for x in X1], [0]*len(X1), c=\"black\")\n",
    "plt.plot([0]*len(X1), [y for y in X1], c=\"black\")\n",
    "plt.show()"
   ]
  },
  {
   "cell_type": "markdown",
   "metadata": {},
   "source": [
    "**Idées d'améliorations de cette méthode** \n",
    "1. Modifier la fonction `find_seed_x0` pour trouver une racine s'il en existe mais que  *g(a) x g(b) > 0* (cf. `find_seed_x0_initiale`programmée pour la méthode des petits carrés.\n",
    "2. Adapter la fonction `find_seed_x0`pour trouver possiblement plus qu'une racine par verticale.\\\n",
    "\\\n",
    "Nous choisissons d'abandonner cette méthode -qui nous a paru un peu naïve- pour développer une nouvelle idée : la méthode des petits carrés."
   ]
  },
  {
   "cell_type": "markdown",
   "metadata": {},
   "source": [
    "## Idée 2 : La méthode des petits carrés "
   ]
  },
  {
   "cell_type": "markdown",
   "metadata": {},
   "source": [
    "### Description"
   ]
  },
  {
   "cell_type": "markdown",
   "metadata": {},
   "source": [
    "**Principe :** Connaissant un point de la ligne de niveau, on trace autour de ce point un carré de côté `2*delta`. On exécute des fonctions de type find_seed sur chacun des quatre bords du carré.\\\n",
    "Afin de toujours avancer dans le bon sens, on met en place un système de mémorisation du côté sur lequel le nouveau point a été trouvé. L'objectif est que le point suivant regarde ce côté-ci en dernier. En effet, c'est sur celui-ci que se trouve le point précédent, le risque serait donc de retrouver ce point-là et de pas avancer... C'est le rôle de la varibale `numcôté` dans nos programmes.\n",
    "\n",
    "**Contraintes :** Dans `contour_simple`, on regarde une fonction sur le carré [0, 1]². Pour s'assurer de ne pas sortir de ce carré-là, on ajoute des fonctions spéciales qui permettent de :\n",
    "\n",
    "1) Compter le nombre de côtés dont le point courant est trop proche (ie à une distance inférieure à delta). \n",
    "- Dans un coin, cette variable vaut 2. \n",
    "- Près d'un côté mais hors d'un coin, elle vaut 1. \n",
    "- Ailleurs, elle vaut 0\n",
    "\n",
    "2) Ajuster les dimensions du \"carré\" (qui pourra devenir un rectangle...). Si par exemple notre point courant est très proche du bord gauche de notre carré [0, 1]², on déplace le bord gauche de notre petit carré sur la ligne verticale d'abscisse x=0. Ainsi, si le point suivant est trouvé sur ce bord, il sera toujours dans le carré [0, 1]².\n",
    "\n",
    "**Conditions d'arrêt :** Toujours dans `contour_simple`, nous avons pris comme condition d'arrêt :\n",
    "- l'arrivée sur un bord.\n",
    "- un nombre de points donné de la ligne de niveau `n` pris comme paramètre de `contour_simple`\\\n",
    "*NB :* Il est indiqué à la fin de l'exécution de `contour simple`si le programme s'est terminé suite à l'arrivée sur un bord. Dans l'autre cas, il se peut donc que le tracé de la ligne de niveau ne soit pas terminé.\n",
    "\n",
    "**Validité mathématique du programme :**\\\n",
    "*Sur ]0,1[²*\\\n",
    "On considère une fonction f de [0,1]² dans $\\mathbb{R}$, continûment différentiable (cf énoncé). Alors f est en particulier continûment différentiable sur l'ouvert ]0,1[². Soit c un réel de f(]0,1[²).\\\n",
    "On considère la fonction g de [0,1]² dans $\\mathbb{R}$ telle que : $\\forall$(x,y) $\\in$]0,1[² , *g(x,y) = f(x,y) - c* . g est continûment différentiable sur l'ouvert ]0,1[². Comme c $\\in$ f(]0,1[²) ,  $\\exists$ (x0,y0) $\\in$ ]0,1[² tel que g(x0,y0) = 0.\\\n",
    "\\\n",
    "Démontrons l'existence d'une racine (x1,y1) telle que *g(x1,y1) = 0* sur le carré de centre (x0,y0) et de côté $2\\delta$ *pour $\\delta$ assez petit*.\\\n",
    "\\\n",
    "Nous allons utiliser le théorème des fonctions implicites. Pour cela, il nous manque comme hypothèse l'existence d'une différentielle partielle de g qui soit bijective. Nous allons démontrer cette hypothèse dans le cas particulier de la fonction de l'énoncé `f_enonce` puisqu'il n'y a pas de démonstration possible dans le cas général.\\\n",
    "\\\n",
    "On choisit arbitrairement d'étudier l'inversibilité de la différentielle partielle $\\partial_y$g (x et y jouent des rôles symétriques dans l'expression de `f_enonce` et donc de g) sur ]0,1[². Comme g est différentiable, on a, $\\forall (x,y)\\in\\mathbb{R}^2$ :\\\n",
    "$\\partial_y g(y,x)= 2[(-2y)e^{-x^2-y^2}+2(y-1)e^{-(x-1)^2-(y-1)^2}]$\\\n",
    "Donc pour la fonction g associée à `f_enonce`, $\\partial_y g$ est inversible sur ]0,1[² comme somme de deux fonctions inversibles.\\\n",
    "\\\n",
    "Par le théorème des fonctions implicites, il existe des voisinages ouverts $U$ de x0 et $V$ de y0 tels que $U$ x $V \\subset ]0,1[^2$ et une fonction implicite $\\psi : U \\rightarrow ]0,1[$, continûment différentiable, telle que pour tout $ x\\in U$ et tout $y\\in V, \\quad f(x,y)=0 \\Leftrightarrow y=\\psi (x)$.Soit $U$, $V$ et $\\psi$ de tels objets.\\\n",
    "Montrons par l'absurde que $\\exists\\delta\\neq 0$ tel que $x0 + \\delta\\in U \\quad et\\quad \\psi (x0+\\delta)\\in V$. Ainsi, supposons par l'absurde que $\\forall\\delta\\neq0, x0+\\delta\\in U \\Rightarrow \\psi(x0+\\delta)\\notin V$.\\\n",
    "Soit $(\\delta_n)_{n\\in\\mathbb{N}}$ une suite qui tend vers 0 et telle que $\\forall n\\in\\mathbb{N},  x0+\\delta_n\\in U$. Par continuité de $\\psi$ sur $U$ on a : $\\lim_{n \\to +\\infty} \\psi(x0+\\delta_n)=\\psi(x0)$. Or $\\psi(x0+\\delta_n)\\notin V$ et $\\psi(x0)\\in V$, ce qui est absurde car $V$ est ouvert. Ainsi $\\exists\\delta\\neq 0$ tel que $x0 + \\delta\\in U \\quad et\\quad \\psi (x0+\\delta)\\in V$. Pour un tel $\\delta$ $g(x0+\\delta,\\psi(x0+\\delta))=0$. Donc $(x0+\\delta,\\psi(x0+\\delta))$ est une racine de g.\\\n",
    "On peut construire deux nouveaux voisinages $U'$ et $V'$ tels que $U'\\subset U$, $V'\\subset V$, $U'\\neq U$, $V'\\neq V$ et $\\forall x\\in U, |x0-x|<\\delta$. Sur ces nouveaux voisinages on a :  $ \\forall (x,y)\\in U$x$V, \\quad f(x,y)=0 \\Leftrightarrow y=\\psi (x)$. On peut montrer comme précédemment que pour $\\exists\\epsilon\\in\\mathbb{R}\\quad$ tel que : $0<|\\epsilon|<|\\delta|\\quad et\\quad g(x0+\\epsilon,\\psi(x0+\\epsilon))=0$.\n",
    "On peut donc trouver une racine aussi proche que l'on veut de (x0,y0) en réduisant la taille des voisinages.\\\n",
    "On montre donc qu'au voisinage d'une racine, on peut ainsi \"construire\" un ligne de niveau pour f (correspondant à des racines de g).\n",
    "On suppose $\\delta$ assez petit pour que la ligne de niveau ne soit pas comprise dans le carré de centre (x0,y0) et de côté $2\\delta$. Ceci conclue la démonstration de la validité de l'idée du programme développé dans ce projet.\n",
    "\n"
   ]
  },
  {
   "cell_type": "markdown",
   "metadata": {},
   "source": [
    "### Place au code"
   ]
  },
  {
   "cell_type": "markdown",
   "metadata": {},
   "source": [
    "#### De façon générale"
   ]
  },
  {
   "cell_type": "markdown",
   "metadata": {},
   "source": [
    "Nous présentons ici le programme abouti qui a été généralisé dans l'écriture de son code (les bornes pour x et y peuvent être quelconques tant que f est bien définie sur les intervalles considérés). Il prend pour variables globales :"
   ]
  },
  {
   "cell_type": "code",
   "execution_count": 9,
   "metadata": {},
   "outputs": [],
   "source": [
    "abscisses=[]\n",
    "ordonnées=[]\n",
    "eps = 2**(-26)\n",
    "\n",
    "#Modifiable par l'utilisateur :\n",
    "delta=0.01\n",
    "\n",
    "#Modifiable par l'utilisateur :\n",
    "valminx=0\n",
    "valmaxx=1\n",
    "valminy=0\n",
    "valmaxy=1"
   ]
  },
  {
   "cell_type": "markdown",
   "metadata": {},
   "source": [
    "On crée `find_seed_y0`, dans laquelle c'est y qui est fixé à y0 et x qui varie entre valminx et valmaxx. On en aura besoin lors de notre recherche du point suivant sur les quatre bords du petit carré (y compris les bords horizontaux)."
   ]
  },
  {
   "cell_type": "code",
   "execution_count": 10,
   "metadata": {},
   "outputs": [],
   "source": [
    "def find_seed_y0(f, c, y0, valminx, valmaxx) :  #comme find_seed mais en faisant varier x à y0 fixé\n",
    "    \n",
    "    def g(x) :\n",
    "        return f(x,y0) - c\n",
    "    \n",
    "    if g(valminx)*g(valmaxx) > 0 :\n",
    "        if g(valminx)==0 :\n",
    "            return valminx\n",
    "        if g(valmaxx)==0 :\n",
    "            return valmaxx\n",
    "        return None\n",
    "    \n",
    "    else :\n",
    "        a, b = valminx, valmaxx\n",
    "        while b-a >= 2*eps :\n",
    "            m=(a+b)/2\n",
    "            if g(m)==0 :\n",
    "                return m\n",
    "            if g(m)*g(b) >= 0 :\n",
    "                b = m\n",
    "            else :\n",
    "                a = m\n",
    "        return (a+b)/2"
   ]
  },
  {
   "cell_type": "markdown",
   "metadata": {},
   "source": [
    "#### Première étape : trouver une racine sur le bord gauche du carré d'étude (ou \"grand carré\")"
   ]
  },
  {
   "cell_type": "markdown",
   "metadata": {},
   "source": [
    "Nous avons codé une nouvelle fonction de recherche de racine pour trouver cette toute première racine `find_seed_x0_initial`. Cette fonction sert à trouver une racine même dans certains cas particuliers où l'hypothèse nécessaire pour la dichotomie n'est pas vérifiée (car présence de deux racines sur le bord gauche par exemple)."
   ]
  },
  {
   "cell_type": "code",
   "execution_count": 11,
   "metadata": {},
   "outputs": [],
   "source": [
    "def find_seed_x0_initial(f, c, x0, valminy, valmaxy) :   #valmin et valmax sont les bornes entre lesquelles on veut que y varie.\n",
    "    \n",
    "    a, b = valminy, valmaxy\n",
    "    \n",
    "    def g(y) :\n",
    "        return f(x0,y) - c\n",
    "    \n",
    "    if g(a)*g(b) >= 0 : #hypothèse non vérifiée\n",
    "        if g(b)==0 :\n",
    "            return b\n",
    "        if g(a)==0 :\n",
    "            return a\n",
    "        else : #On cherche à se ramener à une situation avec un segment dont les bornes vérifient l'hypothèse g(a)*g(b)<0\n",
    "            situationbonne=0 # Cette situation recherchée est trouvée (si elle existe) quand situationbonne=1\n",
    "            if g(b)>0 :\n",
    "                while situationbonne==0 and a<b :\n",
    "                    a=a+delta/100\n",
    "                    if g(a)<0 :\n",
    "                        situationbonne=1\n",
    "                if situationbonne==1 :\n",
    "                    return find_seed_x0(f, c, x0, a, valmaxy)\n",
    "                else :\n",
    "\n",
    "                    return None\n",
    "            if g(b)<0 :\n",
    "                while situationbonne==0 and a<b :\n",
    "                    a=a+delta/100\n",
    "                    if g(a)>0 :\n",
    "                        situationbonne=1\n",
    "                if situationbonne==1 :\n",
    "                    return find_seed_x0(f, c, x0, a, valmaxy)\n",
    "\n",
    "                else :\n",
    "                    return None\n",
    "    while b-a >= 2*eps :\n",
    "        m = (a+b)/2\n",
    "        if g(m)==0 :\n",
    "            return m\n",
    "        if g(m)*g(b) >= 0 :\n",
    "            b = m\n",
    "        else :\n",
    "            a = m\n",
    "    return (a+b)/2 #Comme l'intervalle est de taille au plus 2*eps, on renvoit bien le 0 à + ou - eps."
   ]
  },
  {
   "cell_type": "code",
   "execution_count": 12,
   "metadata": {},
   "outputs": [],
   "source": [
    "def recherche_initiale_racine (f, c, valminx, valmaxx, valminy, valmaxy) :\n",
    "    \n",
    "    #Cherche une racine sur le bord gauche\n",
    "    racine=find_seed_x0_initial(f, c, valminx, valminy, valmaxy)\n",
    "    if racine!=None :\n",
    "        return (valminx,racine)\n",
    "\n",
    "    #Si l'algorithme ne trouve aucune racine sur les bords\n",
    "    return (None, None)"
   ]
  },
  {
   "cell_type": "markdown",
   "metadata": {},
   "source": [
    "#### Deuxième étape : trouver une deuxième racine"
   ]
  },
  {
   "cell_type": "markdown",
   "metadata": {},
   "source": [
    "Une fois notre premier point trouvé sur le bord gauche, il s'agit de savoir si ce point est dans un coin (ie à une distance inférieur à delta de deux bords) ou pas. \n",
    "`test_bord_carre` renvoie ainsi une liste `problemes` de 4 listes, chacune associée à un bord, dont l'indexation est définie comme suit :\n",
    "* 0 : bord gauche\n",
    "* 1 : bord haut\n",
    "* 2 : bord droit\n",
    "* 3 : bord bas\\\n",
    "Chacune de ces listes contient à la fin 1 ou 2 éléments. S'il n'y en a qu'un, le côté associé est suffisamment éloigné de notre point. S'il y en a 2, alors notre point est trop proche du côté concerné i et se trouve à une distance stockée dans le deuxième élément."
   ]
  },
  {
   "cell_type": "code",
   "execution_count": 13,
   "metadata": {},
   "outputs": [],
   "source": [
    "def test_bord_carre(f, x0, y0) :\n",
    "    '''\n",
    "    Renvoie simplement la liste probleme qui permet de connaître les côtés problématiques dans le cas initial.\n",
    "    '''\n",
    "    dgauche, ddroite, dhaut, dbas = 1, 1, 1, 1\n",
    "    problemes=[[1]]*4  #problemes = [côté gauche, côté haut, côté droit, côté bas]\n",
    "    \n",
    "    if x0<delta : #test distance de la racine au bord gauche du domaine de définition de f\n",
    "        problemes[0]=[0, x0] #La valeur 0 montre qu'il y a un problème à l'application de la fonction carré_élémentaire simple\n",
    "    if 1-y0<delta : #test distance de la racine au bord droit du domaine de définition de f\n",
    "        problemes[1]=[0, 1-y0]\n",
    "    if 1-x0<delta :\n",
    "        problemes[2]=[0, 1-x0]\n",
    "    if y0<delta :\n",
    "        problemes[3]=[0, y0]\n",
    "    return problemes"
   ]
  },
  {
   "cell_type": "markdown",
   "metadata": {},
   "source": [
    "A partir de la liste renvoyée par `test_bord_carre`, la fonction `nombreproblemes`compte le nombre de problèmes rencontrés."
   ]
  },
  {
   "cell_type": "code",
   "execution_count": 14,
   "metadata": {},
   "outputs": [],
   "source": [
    "def nombreproblemes(problème) :\n",
    "    #Renvoie le nombre de bords qui dépassent de l'intervalle de définition\n",
    "    nbpb=0\n",
    "    for i in range (len(problème)) :\n",
    "        if len(problème[i])>1 :\n",
    "            nbpb+=1\n",
    "    return nbpb"
   ]
  },
  {
   "cell_type": "markdown",
   "metadata": {},
   "source": [
    "Il y a nécessairement un problème. Si le point (x0, y0) se trouve sur le bord gauche et pas dans un coin, alors il n'y a qu'un problème : on exécute alors `resolution_1_probleme_initial`. Les arguments `x1` et `x2` sont les abscisses des bords gauche et droit, dans le cas normal elles valent `x0+delta` et `x0-delta`. Idem pour `y1` et `y2` pour les côtés bas et haut."
   ]
  },
  {
   "cell_type": "code",
   "execution_count": 15,
   "metadata": {},
   "outputs": [],
   "source": [
    "def resolution_1_probleme_initial(f, c, x0, y0, x1, x2, y1, y2, problème) :\n",
    "    #(x0,y0) est la première racine trouvée\n",
    "    # x1, x2, y1 et y2 sont les \"bornes\" du petit carré d'étude de centre (x0,y0)\n",
    "    if len(problème[0])>1 :\n",
    "        x1=x1+problème[0][0]\n",
    "        L_côté = [1, 2, 3, 0]\n",
    "    if len(problème[1])>1 :\n",
    "        y2=y2+problème[1][0]\n",
    "        L_côté = [2, 3, 0, 1]\n",
    "    if len(problème[2])>1 :\n",
    "        x2=x2+problème[2][0]\n",
    "        L_côté = [3, 0, 1, 2]\n",
    "    if len(problème[3])>1 :\n",
    "        y1=y1+problème[3][0]\n",
    "        L_côté = [0, 1, 2, 3]\n",
    "\n",
    "    #Cherche une racine sur les bords\n",
    "    for i in L_côté :\n",
    "        if i==0 :\n",
    "            t = find_seed_x0(f, c, x0 = x1, valminy=y1, valmaxy=y2)\n",
    "            if t != None :\n",
    "                return (x1, t, i)\n",
    "            else :\n",
    "                continue\n",
    "        if i==1 :\n",
    "            t = find_seed_y0(f, c, y0 = y2, valminx=x1, valmaxx=x2)\n",
    "            if t != None :\n",
    "                return (t, y2, i)\n",
    "            else :\n",
    "                continue\n",
    "        if i==2 :\n",
    "            t = find_seed_x0(f, c, x0 = x2, valminy=y1, valmaxy=y2)\n",
    "            if t != None :\n",
    "                return (x2, t, i)\n",
    "            else :\n",
    "                continue\n",
    "        if i==3 :\n",
    "            t = find_seed_y0(f, c, y0 = y1, valminx=x1, valmaxx=x2)\n",
    "            if t != None :\n",
    "                return (t, y1, i)\n",
    "            else :\n",
    "                continue\n",
    "\n",
    "    #Si aucune racine n'est trouvée sur les bords étudiés\n",
    "    return(None, None, None)\n",
    "\n",
    "def simple_contour_carre_initial (f, c, x0, y0) :\n",
    "    if x0==0 :\n",
    "        L_côté = [1, 2, 3]\n",
    "    if y0==0 :\n",
    "        L_côté = [0, 1, 2]\n",
    "    if x0==1 :\n",
    "        L_côté = [3, 1, 2]\n",
    "    if y0==1 :\n",
    "        L_côté = [2, 3, 1]\n",
    "\n",
    "    x1 = x0 - delta   #côté 0\n",
    "    x2 = x0 + delta   #côté 2\n",
    "    y1 = y0 - delta   #côté 3\n",
    "    y2 = y0 + delta   #côté 1\n",
    "\n",
    "    for i in L_côté :\n",
    "        if i==0 :\n",
    "            t = find_seed_x0(f, c, x1, valminy=y1, valmaxy=y2)\n",
    "            if t != None :\n",
    "                return (x1, t, i)\n",
    "        elif i==1 :\n",
    "            t = find_seed_y0(f, c, y2, valminx=x1, valmaxx=x2)\n",
    "            if t != None :\n",
    "                return (t, y2, i)\n",
    "        elif i==2 :\n",
    "            t = find_seed_x0(f, c, x2, valminy=y1, valmaxy=y2)\n",
    "            if t != None :\n",
    "                return (x2, t, i)\n",
    "        elif i==3 :\n",
    "            t = find_seed_y0(f, c, y1, valminx=x1, valmaxx=x2)\n",
    "            if t != None :\n",
    "                return (t, y1, i)\n",
    "\n",
    "    #Si aucune racine n'est trouvée sur les bords étudiés\n",
    "    return (None, None, None)"
   ]
  },
  {
   "cell_type": "markdown",
   "metadata": {},
   "source": [
    "Si le point (x0, y0) se trouve dans un coin, il y a 2 problèmes : on exécute alors `resolution_2_problemes_initial`."
   ]
  },
  {
   "cell_type": "code",
   "execution_count": 16,
   "metadata": {},
   "outputs": [],
   "source": [
    "def resolution_2_problemes_initial(f, c, x0, y0, problème) :\n",
    "    x1 = x0 - delta   #côté 0\n",
    "    x2 = x0 + delta   #côté 2\n",
    "    y1 = y0 - delta   #côté 3\n",
    "    y2 = y0 + delta   #côté 1\n",
    "\n",
    "    #Identification d'un bord posant pb, changement des bornes pour tronquer ce bord et appel de la fonction avec 1 problème en retenant la borne ici changée.\n",
    "\n",
    "    if len(problème[0])>1 :\n",
    "        x1=x1+problème[0][0]\n",
    "        problème[0] = [1]\n",
    "        return resolution_1_probleme_initial(f, c, x0, y0, x1, y1, x2, y2, problème) #x1 modifié\n",
    "    if len(problème[1])>1 :\n",
    "        y2=y1+problème[1][0]\n",
    "        problème[1] = [1]\n",
    "        return resolution_1_probleme_initial (f, c, x0, y0, x1, y1, x2, y2, problème) #y2 modifié\n",
    "    if len(problème[2])>1 :\n",
    "        x2=x2+problème[2][0]\n",
    "        problème[2] = [1]\n",
    "        return resolution_1_probleme_initial (f, c, x0, y0, x1, y1, x2, y2, problème) #x2 modifié\n",
    "    if len(problème[3])>1 :\n",
    "        y1=y1+problème[3][0]\n",
    "        problème[3] = [1]\n",
    "        return resolution_1_probleme_initial (f, c, x0, y0, x1, y1, x2, y2, problème) #y1 modifié"
   ]
  },
  {
   "cell_type": "markdown",
   "metadata": {},
   "source": [
    "Une fois `resolution_1_probleme_initial` exécutée (qu'elle ait été appelée par `resolution_2_problemes_initial` ou non), on trouve une deuxième racine. Les coordonnées de cette racine sont stockées dans les listes *abscisses* et *ordonnées*, et on retient le *numcôté* associé à cette racine (cf plus haut pour l'explication du sens et de l'importance de cette varaiable *numcôté*)."
   ]
  },
  {
   "cell_type": "markdown",
   "metadata": {},
   "source": [
    "#### Troisième étape : Automatisation de la recherche de racines"
   ]
  },
  {
   "cell_type": "markdown",
   "metadata": {},
   "source": [
    "*Remarque :* Nous allons utiliser dans cette troisième étape des fonctions qui ressemblent beaucoup aux fonctions utilisées dans la deuxième étape  (même principe de fonctionnement) mais qui font intervenir *numcôté*. Nous n'avons pas réussi à réutiliser les mêmes fonctions simplement et avons préféré passer du temps à chercher d'autres méthodes plutôt qu'à optimiser le nombre de fonctions total.\\\n",
    "\\\n",
    "Maintenant, on lance la recherche de tous les autres points tant que les conditions d'arrêt ne sont pas respectées.\n",
    "On note (x0, y0) le point courant. On commence par regarder les bords dont notre point est trop proche avec `test_bord_carre` et on compte combien de problèmes (0, 1 ou 2) on a rencontré avec `nombreprobleme` comme précédemment."
   ]
  },
  {
   "cell_type": "markdown",
   "metadata": {},
   "source": [
    "**Si le nombre de problèmes vaut 0,** alors on exécute la fonction qui s'appliquera le plus souvent : `simple_contour_carre`. Elle cherche le point suivant sur les quatre côtés du petit carré, en terminant par le côté d'où l'on vient. Il est peut-être nécessaire de détailler ici notre raisonnement avec la variable `numcôté`.\\\n",
    "`numcôté` vaut toujours 0, 1, 2 ou 3. Elle représente, du point de vue du point précédent (xx, yy), ie celui à partir duquel on a trouvé (x0, y0), le numéro du côté sur lequel se trouve (x0, y0) avec la numérotation donnée plus haut. Prenons un exemple : si (x0, y0) a été trouvé sur le côté gauche de (xx, yy), alors `numcôté=0`.\\\n",
    "Il s'agit maintenant d'adapter le sens de `numcôté` au point courant (x0, y0). Dans notre exemple, (xx, yy) se trouve, du point de vue du point courant (x0, y0), sur le bord droit ! C'est donc le côté 2 qu'il faut regarder en dernier, d'où la liste `L_côté = [3, 0, 1, 2]`.\\\n",
    "\\\n",
    "Ensuite, on cherche le point suivant sur les 3 premiers côtés de L_côté.\n",
    "\\\n",
    "Si cependant on ne trouve pas de points, on est obligé de regarder sur le dernier côté, ie le côté sur lequel se trouve (xx, yy). C'est un cas de rebroussement. On traite ce cas séparément car il ne faudrait pas retrouver (xx, yy). On fait alors appel à un find_seed spécial : `find_seed_except`.\\\n",
    "`find_seed_except` exécute deux fois la fonction `find_seed` (à x0 ou y0 fixé, peu importe) : \n",
    "1. Sur un premier intervalle de `valmin` jusqu'à `xx-eps` ou `yy-eps` (on rappelle que nos points sont tous déterminés à `eps` près).\n",
    "2. Sur un deuxième intervalle de `xx+eps` ou `yy+eps` jusqu'à `valmax`.\n",
    "L'idée est donc d'exclure une petite zone autour de (xx, yy), de longueur `2*eps`, sur laquelle on ne cherche pas le point suivant.\\\n",
    "\\\n",
    "*Remarque* : Si delta est pris suffisamment petit, on ne devrait jamais avoir à exécuter `find_seed_except`, car un rebroussement de la ligne de niveau à si petite échelle est très peu probable si l'on prend une fonction f pas trop exotique..."
   ]
  },
  {
   "cell_type": "code",
   "execution_count": 17,
   "metadata": {},
   "outputs": [],
   "source": [
    "def simple_contour_carre(f, c, x0, y0, xx, yy, numcôté) :\n",
    "    '''\n",
    "    Cas général, ie on suppose que (x0, y0) est à une distance d'au moins delta de tous les bords.\n",
    "    (x0, y0) est le zéro de la fonction g qu'on vient de trouver\n",
    "    (xx, yy) est le zéro précédent, ie celui à partir duquel on a trouvé (x0, y0) via numcôté)\n",
    "    numcôté est, du point de vue du zéro à partir duquel on vient (ie celui à partir duquel on a trouvé (x0,y0)), le numéro du côté par lequel on est sorti pour aller vers (x0,y0).\n",
    "    0 = vertical gauche\n",
    "    1 = horizontal haut\n",
    "    2 = vertical droit\n",
    "    3 = horizontal bas\n",
    "    Retourne un couple (les coordonnées du nouveau zéro) et un entier (numcôté, ie le côté par lequel on sort)\n",
    "    '''\n",
    "    x1 = x0 - delta  #côté 0\n",
    "    x2 = x0 + delta  #côté 2\n",
    "    y1 = y0 - delta   #côté 3\n",
    "    y2 = y0 + delta   #côté 1\n",
    "    if numcôté == 0 :\n",
    "        L_côté = [3, 0, 1, 2]\n",
    "    elif numcôté == 1 :\n",
    "        L_côté = [0, 1, 2, 3]\n",
    "    elif numcôté == 2 :\n",
    "        L_côté = [1, 2, 3, 0]\n",
    "    elif numcôté == 3 :\n",
    "        L_côté = [2, 3, 0, 1]\n",
    "    for i in [L_côté[i] for i in [0, 1, 2]] :\n",
    "        if i==0 :\n",
    "            t = find_seed_x0(f, c, x0 = x1, valminy=y1, valmaxy=y2)\n",
    "            if t != None :\n",
    "                return (x1, t, i)\n",
    "        elif i==1 :\n",
    "            t = find_seed_y0(f, c, y0 = y2, valminx=x1, valmaxx=x2)\n",
    "            if t != None :\n",
    "                return (t, y2, i)\n",
    "        elif i==2 :\n",
    "            t = find_seed_x0(f, c, x0 = x2, valminy=y1, valmaxy=y2)\n",
    "            if t != None :\n",
    "                return (x2, t, i)\n",
    "        elif i==3 :\n",
    "            t = find_seed_y0(f, c, y0 = y1, valminx=x1, valmaxx=x2)\n",
    "            if t != None :\n",
    "                return (t, y1, i)\n",
    "    dernier_côté = numcôté\n",
    "    #On passe au dernier côté : ça se complique car notre find_seed va nous renvoyer le même zéro que celui d'où on vient. On va faire une dichotomie sur deux intervalles formés en excluant une petite zone (de taille 2*eps) autour de notre ancien zéro.\n",
    "    if dernier_côté in [0, 2] :\n",
    "        valmin, valmax = x1, x2\n",
    "        t = find_seed_except(f, c, valmin, valmax, xx, yy, dernier_côté)\n",
    "        if t != None :\n",
    "            return (xx, t, dernier_côté)\n",
    "    elif dernier_côté in [1, 3] :\n",
    "        valmin, valmax = y1, y2\n",
    "        t = find_seed_except(f, c, valmin, valmax, xx, yy, dernier_côté)\n",
    "        if t != None :\n",
    "            return (t, yy, dernier_côté)\n",
    "    return None\n",
    "\n",
    "\n",
    "def find_seed_except(f, c, valmin, valmax, xx, yy, numcôté) :\n",
    "    '''\n",
    "    C'est un find_seed spécial qui s'applique lors des rebroussements, ie lorsqu'on ressort par le côté d'où on est entré.\n",
    "    Il va en fait chercher un nouveau zéro sur deux intervalles obtenus en excluant une petite zone (de longueur 2*eps) autour de notre ancien zéro (xx, yy).\n",
    "    '''\n",
    "    if numcôté in [0,2] :  #c'est y qui bouge, x fixé à xx\n",
    "        valmin1, valmax1 = valmin, xx-eps\n",
    "        valmin2, valmax2 = xx+eps, valmax\n",
    "        t = find_seed_x0(f, c, x0=xx, valminy=valmin1, valmaxy=valmax1)\n",
    "        tt = find_seed_x0(f, c, x0=xx, valminy=valmin2, valmaxy=valmax2)\n",
    "        if t != None :\n",
    "            return t\n",
    "        if tt != None :\n",
    "            return  tt\n",
    "    else :   #x bouge, y fixé à yy\n",
    "        valmin1, valmax1 = valmin, yy-eps\n",
    "        valmin2, valmax2 = yy+eps, valmax\n",
    "        t = find_seed_y0(f, c, y0=yy, valminx=valmin1, valmaxx=valmax1)\n",
    "        tt = find_seed_y0(f, c, y0=yy, valminx=valmin2, valmaxx=valmax2)\n",
    "        if t != None :\n",
    "            return t\n",
    "        if tt != None :\n",
    "            return  tt\n",
    "    return None"
   ]
  },
  {
   "cell_type": "markdown",
   "metadata": {},
   "source": [
    "**Si le nombre de problème vaut 1,** alors on exécute `resolution_1_probleme`. L'idée est la même que dans `resolution_1_probleme_initial`, on traite seulement le cas de rebroussement en plus, de la même façon que dans `simple_contour_carre`."
   ]
  },
  {
   "cell_type": "code",
   "execution_count": 18,
   "metadata": {},
   "outputs": [],
   "source": [
    "def resolution_1_probleme (f, c, x0, y0, problème, numcôté, xx, yy, x1, x2, y1, y2) :\n",
    "    if len(problème[0])>1 :\n",
    "        x1=x1+problème[0][0]\n",
    "    if len(problème[1])>1 :\n",
    "        y2=y2-problème[1][0]\n",
    "    if len(problème[2])>1 :\n",
    "        x2=x2-problème[2][0]\n",
    "    if len(problème[3])>1 :\n",
    "        y1=y1+problème[3][0]\n",
    "\n",
    "    #On prend en compte la valeur de numcôté pour traiter le côté concerné par numcôté en dernier.\n",
    "    if numcôté==0 :\n",
    "        L_côté = [3, 0, 1, 2]\n",
    "    if numcôté==1 :\n",
    "        L_côté = [0, 1, 2, 3]\n",
    "    if numcôté==2 :\n",
    "        L_côté = [1, 2, 3, 0]\n",
    "    if numcôté==3 :\n",
    "        L_côté = [2, 3, 0, 1]\n",
    "\n",
    "\n",
    "    #Cherche des racines sur les bords (possiblement tronqués) qui ne font pas intervenir numcôté\n",
    "    for i in L_côté[0:3] :\n",
    "        if i==0 :\n",
    "            t = find_seed_x0(f, c, x0 = x1, valminy=y1, valmaxy=y2)\n",
    "            if t != None :\n",
    "                return (x1, t, i)\n",
    "        elif i==1 :\n",
    "            t = find_seed_y0(f, c, y0 = y2, valminx=x1, valmaxx=x2)\n",
    "            if t != None :\n",
    "                return (t, y2, i)\n",
    "        elif i==2 :\n",
    "            t = find_seed_x0(f, c, x0 = x2, valminy=y1, valmaxy=y2)\n",
    "            if t != None :\n",
    "                return (x2, t, i)\n",
    "        elif i==3 :\n",
    "            t = find_seed_y0(f, c, y0 = y1, valminx=x1, valmaxx=x2)\n",
    "            if t != None :\n",
    "                return (t, y1, i)\n",
    "\n",
    "    #Teste le dernier côté où la racine précédente a été exclue\n",
    "    i=L_côté[3]\n",
    "    if i==0 :\n",
    "        t = find_seed_except(f, c, y1, y2, xx, yy, numcôté)\n",
    "        if t != None :\n",
    "            return (x1, t, i)\n",
    "    elif i==1 :\n",
    "        t = find_seed_except(f, c, x1, x2, xx, yy, numcôté)\n",
    "        if t != None :\n",
    "            return (t, y2, i)\n",
    "    elif i==2 :\n",
    "        t = find_seed_except(f, c, y1, y2, xx, yy, numcôté)\n",
    "        if t != None :\n",
    "            return (x2, t, i)\n",
    "    elif i==3 :\n",
    "        t = find_seed_except(f, c, x1, x2, xx, yy, numcôté)\n",
    "        if t != None :\n",
    "            return (t, y1, i)\n",
    "\n",
    "    #Si aucune racine n'est trouvée sur les bords étudiés\n",
    "    return (None, None, None)"
   ]
  },
  {
   "cell_type": "markdown",
   "metadata": {},
   "source": [
    "**Si le nombre de problèmes vaut 2,** alors on exécute `resolution_2_problemes`. L'idée est d'exécuter `resolution_1_probleme`en ayant réajuster un des côtés du carré, de sorte qu'on se ramène à un cas où il n'y a plus que 1 problème. On n'oublie pas au passage de spécifier qu'il n'y a plus de problème sur le côté qu'on vient de modifier dans la liste `problème`."
   ]
  },
  {
   "cell_type": "code",
   "execution_count": 19,
   "metadata": {},
   "outputs": [],
   "source": [
    "def resolution_2_problemes(f, c, x0, y0, problème, numcôté, xx, yy) :\n",
    "    x1 = x0 - delta   #côté 0\n",
    "    x2 = x0 + delta   #côté 2\n",
    "    y1 = y0 - delta   #côté 3\n",
    "    y2 = y0 + delta   #côté 1\n",
    "\n",
    "    #Identification d'un bord posant pb, changement des bornes pour tronquer ce bord et appel de la fonction avec 1 problème en retenant la nouvelle borne.\n",
    "    if len(problème[0])>1 :\n",
    "        x1=x1+problème[0][0]\n",
    "        problème[0] = [1]\n",
    "        return resolution_1_probleme(f, c, x0, y0, problème, numcôté, xx, yy, x1, x2, y1, y2=y0+delta) #x1 modifié\n",
    "    if len(problème[1])>1 :\n",
    "        y2=y2-problème[1][0]\n",
    "        problème[1] = [1]\n",
    "        return resolution_1_probleme(f, c, x0, y0, problème, numcôté, xx, yy, x1, x2, y1, y2) #y2 modifié\n",
    "    if len(problème[2])>1 :\n",
    "        x2=x2-problème[2][0]\n",
    "        problème[2] = [1]\n",
    "        return resolution_1_probleme(f, c, x0, y0, problème, numcôté, xx, yy, x1, x2, y1, y2) #x2 modifié\n",
    "    if len(problème[3])>1 :\n",
    "        y1=y1+problème[3][0]\n",
    "        problème[3] = [1]\n",
    "        return resolution_1_probleme(f, c, x0, y0, problème, numcôté, xx, yy, x1, x2, y1, y2) #y1 modifié"
   ]
  },
  {
   "cell_type": "markdown",
   "metadata": {},
   "source": [
    "#### Quatrième étape : relier les fonctions entre elles ou coder la fonction englobante"
   ]
  },
  {
   "cell_type": "markdown",
   "metadata": {},
   "source": [
    "Il ne nous reste plus qu'à construire la structure globale de notre fonction `contour_simple_carre` en appelant toutes les fonctions précédentes."
   ]
  },
  {
   "cell_type": "code",
   "execution_count": 20,
   "metadata": {},
   "outputs": [],
   "source": [
    "def contour_simple_carre(f, c, n) :   #n est le nombre de points maximal qu'on accepte de tracer.\n",
    "    '''\n",
    "    Affiche la ligne de niveau de la fonction f pour la valeur c.\n",
    "    delta est l'espacement approximatif entre les points qui composent cette ligne.\n",
    "    eps correspond à l'incertitude sur ces points, ie les valeurs sont justes à + ou - eps.\n",
    "    '''\n",
    "    abscisses = []\n",
    "    ordonnées = []\n",
    "    fin=0\n",
    "\n",
    "    if n<2 :\n",
    "        raise ValueError (\"Veuillez entrer un nombre de points >=2\")\n",
    "\n",
    "    #1- On trouve un premier point de la ligne\n",
    "    (xx, yy) = recherche_initiale_racine(f, c, valminx, valmaxx, valminy, valmaxy)\n",
    "    if xx!=None :\n",
    "        abscisses.append(xx)\n",
    "        ordonnées.append(yy)\n",
    "    else :\n",
    "        return np.array([]), np.array([])  #Pas de points de la ligne sur ce bord.\n",
    "\n",
    "    #2- On trouve un deuxième point de la ligne de niveau à partir du premier\n",
    "    problemes = test_bord_carre(f, xx, yy)\n",
    "    nbpb = nombreproblemes(problemes)\n",
    "    if nbpb == 1:\n",
    "        (x0, y0, numcôté) = resolution_1_probleme_initial(f, c, xx, yy, xx-delta, xx+delta, yy-delta, yy+delta, problemes)\n",
    "    elif nbpb == 2 :\n",
    "        (x0, y0, numcôté) = resolution_2_problemes_initial(f, c, xx, yy, problemes)\n",
    "    else :\n",
    "        return np.array([]), np.array([])   #On décide ne pas renvoyer le premier point seul. Ce cas n'arrive jamais normalement.\n",
    "\n",
    "    if x0 != None and y0 != None :\n",
    "        abscisses.append(x0)\n",
    "        ordonnées.append(y0)\n",
    "    else :\n",
    "        return np.array([]), np.array([])\n",
    "\n",
    "    #3- Recherche de n points supplémentaires de la ligne\n",
    "    i=2 #compteur de boucle\n",
    "    while fin==0 and i<n :\n",
    "        problemes = test_bord_carre(f, x0, y0)\n",
    "        xx, yy , xxx, yyy = x0, y0, xx, yy\n",
    "        if problemes == [[1]]*4 :    #Il n'y a pas de problème : on est suffisamment éloigné de tous les bords\n",
    "            (x0, y0, numcôté) = simple_contour_carre(f, c, xx, yy, xxx, yyy, numcôté)\n",
    "            if x0 != None and y0 != None :\n",
    "                abscisses.append(x0)\n",
    "                ordonnées.append(y0)\n",
    "                if x0<=valminx or x0>=valmaxx or y0<=valminy or y0>=valmaxy :\n",
    "                    fin=1 #On sort du grand carré d'étude, on s'arrête là.\n",
    "        else :\n",
    "            nbpb = nombreproblemes(problemes)\n",
    "            if nbpb == 1 :\n",
    "                (x0, y0, numcôté) = resolution_1_probleme(f, c, xx, yy, problemes, numcôté, xxx, yyy, x0 - delta, x0 + delta, y0 - delta, y0 + delta)\n",
    "                if x0 != None and y0 != None :\n",
    "                    abscisses.append(x0)\n",
    "                    ordonnées.append(y0)\n",
    "                    if x0<=valminx or x0>=valmaxx or y0<=valminy or y0>=valmaxy :\n",
    "                        fin=1\n",
    "                else :\n",
    "                    return np.array(abscisses), np.array(ordonnées) #La recherche d'une racine sur les bords du carré n'a pas abouti à ce stade. On renvoie les points qu'on a trouvé jusqu'à présent.\n",
    "            elif nbpb == 2 :\n",
    "                (x0, y0, numcôté) = resolution_2_problemes(f, c, xx, yy, problemes, numcôté, xxx, yyy)\n",
    "                if x0 != None and y0 != None :\n",
    "                    abscisses.append(x0)\n",
    "                    ordonnées.append(y0)\n",
    "                    if x0<=valminx or x0>=valmaxx or y0<=valminy or y0>=valmaxy :\n",
    "                        fin=1\n",
    "                else :\n",
    "                    return np.array(abscisses), np.array(ordonnées)\n",
    "            else :\n",
    "                return np.array(abscisses), np.array(ordonnées) #Le nombre de problèmes a depassé 2.\n",
    "        i+=1\n",
    "\n",
    "    if fin==1 :\n",
    "        print (f\"La courbe de niveau (c={c}) a été finie d'être dessinée sur ce carré.\")\n",
    "        abscisses.pop()\n",
    "        ordonnées.pop()\n",
    "    elif fin==0 :\n",
    "        print (f\"La courbe de niveau (c={c}) n'a pas été finie d'être dessinée sur ce carré.\")\n",
    "        \n",
    "    #4- Le retour\n",
    "    return np.array(abscisses), np.array(ordonnées)\n"
   ]
  },
  {
   "cell_type": "markdown",
   "metadata": {},
   "source": [
    "On vérifie que ce programme fonctionne avec la fonction de l'énoncé sur  [0, 1]²."
   ]
  },
  {
   "cell_type": "code",
   "execution_count": 21,
   "metadata": {},
   "outputs": [
    {
     "name": "stdout",
     "output_type": "stream",
     "text": [
      "La courbe de niveau (c=0) n'a pas été finie d'être dessinée sur ce carré.\n",
      "La courbe de niveau (c=0.5) n'a pas été finie d'être dessinée sur ce carré.\n",
      "La courbe de niveau (c=1) a été finie d'être dessinée sur ce carré.\n",
      "La courbe de niveau (c=1.5) a été finie d'être dessinée sur ce carré.\n"
     ]
    },
    {
     "data": {
      "image/png": "[encoded data removed]",
      "text/plain": [
       "<Figure size 432x288 with 1 Axes>"
      ]
     },
     "metadata": {
      "needs_background": "light"
     },
     "output_type": "display_data"
    }
   ],
   "source": [
    "#On rappelle les variables globales\n",
    "abscisses=[]\n",
    "ordonnées=[]\n",
    "eps = 2**(-26)\n",
    "\n",
    "#Modifiable par l'utilisateur :\n",
    "delta=0.011\n",
    "\n",
    "#Modifiable par l'utilisateur :\n",
    "valminx=0\n",
    "valmaxx=1\n",
    "valminy=0\n",
    "valmaxy=1\n",
    "\n",
    "def affichage_simple_carre (f_enonce, C, n) : #Tracé simultané de plusieurs lignes de niveau\n",
    "    for c in C :\n",
    "        abscisses, ordonnées = contour_simple_carre(f_enonce, c, n)\n",
    "        plt.plot(abscisses, ordonnées)\n",
    "    plt.show()\n",
    "\n",
    "affichage_simple_carre(f_enonce, [0, 0.5, 1, 1.5], 30) "
   ]
  },
  {
   "cell_type": "code",
   "execution_count": 22,
   "metadata": {},
   "outputs": [
    {
     "name": "stdout",
     "output_type": "stream",
     "text": [
      "La courbe de niveau (c=0) a été finie d'être dessinée sur ce carré.\n",
      "La courbe de niveau (c=0.5) a été finie d'être dessinée sur ce carré.\n",
      "La courbe de niveau (c=1) a été finie d'être dessinée sur ce carré.\n",
      "La courbe de niveau (c=1.5) a été finie d'être dessinée sur ce carré.\n"
     ]
    },
    {
     "data": {
      "image/png": "[encoded data removed]",
      "text/plain": [
       "<Figure size 432x288 with 1 Axes>"
      ]
     },
     "metadata": {
      "needs_background": "light"
     },
     "output_type": "display_data"
    }
   ],
   "source": [
    "# On voit qu'en augmentant le nombre de points, toutes les lignes sont complètes : notre condition d'arrêt est \n",
    "# toujours la sortie du carré et non plus le nombre de points choisi arbitrairement par l'utilisateur.\n",
    "# NB : le nombre de points n minimal permettant que la seule condition d'arrêt appliquée soit la sortie du grand carré \n",
    "#      est fonction décroissante de delta.\n",
    "affichage_simple_carre(f_enonce, [0, 0.5, 1, 1.5], 150)"
   ]
  },
  {
   "cell_type": "markdown",
   "metadata": {},
   "source": [
    "## Idée 3 : la méthode des petits cercles"
   ]
  },
  {
   "cell_type": "markdown",
   "metadata": {},
   "source": [
    "### Idée"
   ]
  },
  {
   "cell_type": "markdown",
   "metadata": {},
   "source": [
    "Nous avons souhaité coder une méthode utilisant le gradient. En effet l'outil gradient pourrait nous orienter (dans l'espace 2D ici considéré) plus rapidement vers une racine à environ delta d'une racine précédemment trouvée.\\\n",
    "C'est aussi dans le souci de trouver un programme faisant intervenir moins de fonctions que la méthode des petits carrés que nous avons développé cette méthode."
   ]
  },
  {
   "cell_type": "markdown",
   "metadata": {},
   "source": [
    "### Description"
   ]
  },
  {
   "cell_type": "markdown",
   "metadata": {},
   "source": [
    "**Principe :** Cette méthode, qui ne fait plus intervenir `find_seed` (sauf pour trouver la toute première racine), consiste à évaluer la fonction f sur un cercle de rayon delta tracé autour du point courant. Autrement dit, pour chaque point de la ligne de niveau, on trouve le point suivant en calculant les valeurs prises par f sur un nombre important de points situés à delta du point courant. Tous les points de ce cercle sont paramétrés par un seul angle theta.\n",
    "\n",
    "**Gradient :** On peut améliorer cette première méthode en utlisant le gradient de la fonction au niveau du point courant. En effet, la ligne de niveau est tangente au gradient. En construisant un vecteur normal au gradient (orienté dans un direction arbitraire), on trouve une direction privilégiée. Nous considérons que les chances de trouver le point suivant sont maximales dans la direction donnée par ce vecteur. On commence donc par balayer les points qui sont proches de cette direction, et on s'éloigne jusqu'à avoir parcouru tout le cercle. On optimise ainsi le temps de recherche du point suivant.\n",
    "\n",
    "**Condition d'arrêt :** On utilisera les conditions d'arrêt suivantes :\n",
    "* La ligne de niveau atteint un bord : si le quadrillage final (dans `contour`) est suffisamment fin, on ne devrait pas trouver deux lignes de niveau pour une même valeur dans une cellule.\n",
    "* Le nombre de points trouvé a dépassé 200. Dans une cellule de taille 1, cela correspond à avoir parcouru deux fois la distance sur un côté.\n",
    "* Avant d'avoir atteint cette limite, le point suivant n'a pas pu être trouver (parce que la discrétisation en théta n'était pas assez fine,etc...). On renvoie alors la liste des points déjà trouvés, à défaut - peut-être - d'avoir la ligne complète.\n",
    "\n",
    "**Validité mathématique du programme :**\\\n",
    "On se ramène à l'explication pour la méthode des petits carrés."
   ]
  },
  {
   "cell_type": "markdown",
   "metadata": {},
   "source": [
    "### Place au code"
   ]
  },
  {
   "cell_type": "markdown",
   "metadata": {},
   "source": [
    "#### Première étape : les fonctions auxiliaires"
   ]
  },
  {
   "cell_type": "markdown",
   "metadata": {},
   "source": [
    "On aura besoin dans la suite de nombreuses fonctions auxiliaires que l'on présente ici.\n",
    "* `find_seed` : on utilise la même que précédemment, pour trouver le premier point sur le bord gauche du carré.\n",
    "* `point_courant` : passage des coordonnées polaires aux coordonnées cartésiennes afin d'évaluer la fonction f en le point de recherche courant (connaissant son angle theta par rapport à l'horizontale)\n",
    "* `gradient` : renvoie les coodonnées du gradient de la fonction f en `(x, y)` en utilisant la fonction `grad` du module `autograd`.\n",
    "* `vecteur_normal_droite` : construit un vecteur normé normal au gradient. L'adjectif \"droite\" signifie simplement que, lorsque le gradient est orienté vers le haut, le vecteur construit est arbitrairement orienté vers la droite. En réalité, ce choix n'est pas si arbitraire que ça car il revient à dire que l'on décide de parcourir la ligne de niveau de la gauche vers la droite, ce qui paraît \"cohérent\" sachant que l'on part du côté gauche.\n",
    "* `second_point` : permet simplement de trouver le second point de la ligne de niveau connaissant le premier trouvé sur le bord gauche. On parcourt tous les angles de $-\\pi/2$ à $+\\pi/2$.\n",
    "* `test_bord` : renvoie 1 si le point qu'on vient de trouver est sorti du carré [0, 1]². Cette fonction est utilisée en tant que condition d'arrêt, car elle signifie que la ligne de niveau a attein un bord.\n",
    "* `iterateur_theta` : construit un itérateur qui balaye les angles theta en partant de la direction donnée par theta0 (ie la direction donnée par vecteur_normal_droite dans le programme global). La fonction crée des arc-de-cercles de longueur angulaire $\\pi/10\\$ répartis autour de la direction de référence."
   ]
  },
  {
   "cell_type": "code",
   "execution_count": 21,
   "metadata": {},
   "outputs": [],
   "source": [
    "def find_seed(f, c, x0=0, min=0, max=1) :   #valmin et valmax sont les bornes entre lesquelles on veut que y varie.\n",
    "    a, b = min, max\n",
    "    def g(y) :\n",
    "        return f(x0, y) - c\n",
    "    if g(a)*g(b) > 0 : #dans ce cas, notre hypothèse n'est pas vérifiée.\n",
    "        return None\n",
    "    if g(b)==0 :\n",
    "        return b\n",
    "    if g(a)==0 :\n",
    "        return a\n",
    "    while abs(b-a) > 2*eps :\n",
    "        m = (a+b)/2\n",
    "        if g(m)*g(b) >= 0 :\n",
    "            b = m\n",
    "        else :\n",
    "            a = m\n",
    "    return (a+b)/2 #Comme l'intervalle est de taille au plus 2*eps, on renvoit bien le 0 à + ou - eps."
   ]
  },
  {
   "cell_type": "code",
   "execution_count": 22,
   "metadata": {},
   "outputs": [],
   "source": [
    "def point_courant(x0, y0, theta, delta) :\n",
    "    '''\n",
    "    Connaissant l'angle theta du point courant par rapport à l'horizontale, retourne ses coordonnées cartésiennes\n",
    "    '''\n",
    "    return (x0 + delta*np.cos(theta), y0 + delta*np.sin(theta))"
   ]
  },
  {
   "cell_type": "code",
   "execution_count": 23,
   "metadata": {},
   "outputs": [],
   "source": [
    "def gradient(f, x, y) :\n",
    "    '''\n",
    "    Renvoie les coordonnées du gradient de la fonction f en (x,y) sous forme d'un tableau numpy.\n",
    "    '''\n",
    "    g = autograd.grad\n",
    "    return np.array([g(f, 0)(x, y), g(f, 1)(x, y)])"
   ]
  },
  {
   "cell_type": "code",
   "execution_count": 24,
   "metadata": {},
   "outputs": [],
   "source": [
    "def vecteur_normal_droite(grad) :\n",
    "    '''\n",
    "    Renvoie les coordonnées d'un vecteur normé orthogonal au gradient de f en (x,y) 'orienté vers la droite', ie dans le sens de parcours de la ligne de niveau.\n",
    "    Si le gradient est nul en (x,y), renvoie np.array([None, None]).\n",
    "    '''\n",
    "    g1, g2 = grad[0], grad[1]\n",
    "    norme=np.linalg.norm(grad)\n",
    "    if norme==0 :    # La gradient est nul en (x,y)\n",
    "        return np.array([None, None])\n",
    "    vecteur_normal = (1/norme) * np.array([g2, -g1])\n",
    "    return vecteur_normal"
   ]
  },
  {
   "cell_type": "code",
   "execution_count": 25,
   "metadata": {},
   "outputs": [],
   "source": [
    "def second_point(f, c, x0, y0, delta) :\n",
    "    '''\n",
    "    Renvoie les coordonnées du deuxième point de la ligne de niveau, connaissant celui déjà trouvé avec find_seed (x0, y0).\n",
    "    Renvoie (None, None) si aucun point n'est trouvé.\n",
    "    '''\n",
    "    L_theta = np.linspace(-np.pi/2, np.pi/2, 5000)  #on cherche le deuxième point sur le demi-cercle de droite\n",
    "    for theta in L_theta :\n",
    "        (x, y) = point_courant(x0, y0, theta, delta)\n",
    "        if abs(f(x,y) - c) < eps :\n",
    "            return (x,y)\n",
    "    return (None, None)"
   ]
  },
  {
   "cell_type": "code",
   "execution_count": 26,
   "metadata": {},
   "outputs": [],
   "source": [
    "def test_bord(x0, y0, delta) :\n",
    "    '''\n",
    "    Permet de savoir si le point courant est à l'extérieur du carré [0, 1]²\n",
    "    Renvoie 1 si c'est le cas, 0 sinon.\n",
    "    '''\n",
    "    if x0 < 0 or y0 < 0 or x0 > 1 or y0 > 1 :\n",
    "        return 1\n",
    "    return 0"
   ]
  },
  {
   "cell_type": "code",
   "execution_count": 27,
   "metadata": {},
   "outputs": [],
   "source": [
    "def iterateur_theta(theta0) :\n",
    "    '''\n",
    "    Renvoie un itérateur qui permet de parcourir les theta intelligement autour de theta0. On suppose en effet que les chances de trouver le point suivant sont maximales autour de la direction donnée par vecteur_normal_droite.\n",
    "    '''\n",
    "    L_theta_1 = np.linspace(theta0 - np.pi/10, theta0 + np.pi/10, 1000)\n",
    "    L_theta_2 = itertools.chain(np.linspace(theta0 - np.pi/10, theta0 - 2*np.pi/10, 500), np.linspace(theta0 + np.pi/10, theta0 + 2*np.pi/10, 500))\n",
    "    L_theta_3 = itertools.chain(np.linspace(theta0 - 2*np.pi/10, theta0 - 3*np.pi/10, 500), np.linspace(theta0 + 2*np.pi/10, theta0 + 3*np.pi/10, 500))\n",
    "    L_theta_4 = itertools.chain(np.linspace(theta0 - 3*np.pi/10, theta0 - 4*np.pi/10, 500), np.linspace(theta0 + 3*np.pi/10, theta0 + 4*np.pi/10, 500))\n",
    "    L_theta_5 = itertools.chain(np.linspace(theta0 - 4*np.pi/10, theta0 - 5*np.pi/10, 500), np.linspace(theta0 + 4*np.pi/10, theta0 + 5*np.pi/10, 500))\n",
    "    L_theta_6 = itertools.chain(np.linspace(theta0 - 5*np.pi/10, theta0 - 6*np.pi/10, 500), np.linspace(theta0 + 5*np.pi/10, theta0 + 6*np.pi/10, 500))\n",
    "    L_theta_7 = itertools.chain(np.linspace(theta0 - 6*np.pi/10, theta0 - 7*np.pi/10, 500), np.linspace(theta0 + 6*np.pi/10, theta0 + 7*np.pi/10, 500))\n",
    "    L_theta_8 = itertools.chain(np.linspace(theta0 - 7*np.pi/10, theta0 - 8*np.pi/10, 500), np.linspace(theta0 + 7*np.pi/10, theta0 + 8*np.pi/10, 500))\n",
    "    L_theta_9 = itertools.chain(np.linspace(theta0 - 8*np.pi/10, theta0 - 9*np.pi/10, 500), np.linspace(theta0 + 8*np.pi/10, theta0 + 9*np.pi/10, 500))\n",
    "    L_theta_10 = itertools.chain(np.linspace(theta0 - 9*np.pi/10, theta0 - 10*np.pi/10, 500), np.linspace(theta0 + 9*np.pi/10, theta0 + 10*np.pi/10, 500))\n",
    "    return itertools.chain(L_theta_1, L_theta_2, L_theta_3, L_theta_4, L_theta_5, L_theta_6, L_theta_7, L_theta_8, L_theta_9, L_theta_10)"
   ]
  },
  {
   "cell_type": "markdown",
   "metadata": {},
   "source": [
    "#### Deuxième étape : `simple_contour_cercle`"
   ]
  },
  {
   "cell_type": "markdown",
   "metadata": {},
   "source": [
    "*Quelques remarques :*\n",
    "* On d'afficher quelques messages qui donnent une idée de l'avancement du programme.\n",
    "* On discrétise le petit cercle autour de `(x0, y0)` en 10.000 points, ie on le parcourt avec un pas de $2\\pi/10.000$.\n",
    "* On a besoin, dans notre programme, de vérifier qu'on ne trouve pas toujours les mêmes points. En effet, dans notre parcourt du petit cercle, rien n'empêche de retomber sur le point precédent ! On décide donc de comparer le point trouvé aux deux derniers de la ligne (c'est arbitraire, nous estimons qu'il est peu probable qu'on en rencontre plus dans une si petite zone), avec une marge de eps.\n",
    "* On rajoute à la fin une fonction d'affichage de notre courbe."
   ]
  },
  {
   "cell_type": "code",
   "execution_count": 56,
   "metadata": {},
   "outputs": [],
   "source": [
    "eps = 10**(-4)    #on doit abaisser un peu la précision pour que la méthode des cercles fonctionne avec un nombre \"décent\" de points de recherche.\n",
    "def contour_simple_cercle(f, c=0.0, delta=0.01) :\n",
    "    #1- Chercher un point de la ligne de niveau sur le côté gauche\n",
    "    abscisses = []\n",
    "    ordonnées = []\n",
    "    xx = 0\n",
    "    yy = find_seed(f, c)\n",
    "    if yy==None :\n",
    "        return np.array([]), np.array([])  #impossible de construire la ligne de niveau.\n",
    "    else :\n",
    "        abscisses.append(xx)\n",
    "        ordonnées.append(yy)\n",
    "\n",
    "    #2- Chercher un deuxième point dans le demi-cercle droit autour du premier point\n",
    "    (x0, y0) = second_point(f, c, xx, yy, delta)\n",
    "    if (x0, y0) == (None, None) :\n",
    "        return np.array([]), np.array([])   \n",
    "    else :\n",
    "        abscisses.append(x0)\n",
    "        ordonnées.append(y0)\n",
    "    #3- Recherche des points suivants\n",
    "    n=200     #nombre max de points\n",
    "    for i in range(n) :\n",
    "        if test_bord(x0, y0, delta) == 1 :\n",
    "            abscisses.pop()   #le point est à l'extérieur du carré d'étude : on le retire de notre liste.\n",
    "            ordonnées.pop()\n",
    "            print(f\"La recherche de cette ligne de niveau (c={c}) est finie !\")\n",
    "            break\n",
    "        grad = gradient(f, x0, y0)\n",
    "        if np.linalg.norm(grad) == 0 :  #on est tombé sur un point critique. Aucune direction n'est privilégiée. En pratique, ce cas ne devrait presque jamais arriver car il est très improbable que le gradient soit exactement nul sur un point donné.\n",
    "            print('Le gradient est nul')\n",
    "            iterateur = np.linspace(-np.pi, np.pi, 10000)\n",
    "        else :\n",
    "            vecteur_normal = delta*vecteur_normal_droite(grad)   #vecteur_normal de norme delta\n",
    "            x, y = vecteur_normal[0], vecteur_normal[1]\n",
    "            theta0 = 2*np.arctan(y / x + np.sqrt(x**2 + y**2))  #theta0 permet de définir la direction donnée par vecteur_normal.\n",
    "            iterateur = iterateur_theta(theta0)\n",
    "        for theta in iterateur_theta(theta0) :\n",
    "            (x, y) = point_courant(x0, y0, theta, delta)\n",
    "            if abs(f(x,y) - c) < eps :   #(x, y) est peut-être le prochaine point de notre ligne...\n",
    "                if abs(x-abscisses[-1]) > eps and abs(y-ordonnées[-1]) > eps and abs(x-abscisses[-2]) > eps and abs(y-ordonnées[-2]) > eps : #... sauf si c'est le dernier ou l'avant dernier point de la ligne ! (à eps près)\n",
    "                    abscisses.append(x)\n",
    "                    ordonnées.append(y)\n",
    "                    x0, y0 = x, y   #(x, y) est notre nouveau point courant, on arrête de parcourir les theta.\n",
    "                    break\n",
    "                else :    #on a déjà trouvé (x, y)\n",
    "                    continue   #on continue à parcourir les theta en espérant trouver un nouveau point de la ligne...\n",
    "        else :  #le else n'est exécuté que si on ne sort par de la boucle for avec un break. Cela signifie qu'on n'a pas trouvé de nouveau point de la ligne autour de (x0, y0).\n",
    "            print(\"Impossible de trouver le point suivant !\")\n",
    "            return np.array(abscisses), np.array(ordonnées)  #On décide donc de renvoyer les points qu'on a déjà trouvé, même s'il en manque sans doute...\n",
    "    else :\n",
    "        print(\"Le nombre de points maximal a été atteint !\")\n",
    "\n",
    "    #4- Retourner les coordonnées des points trouvés\n",
    "    return np.array(abscisses), np.array(ordonnées)"
   ]
  },
  {
   "cell_type": "code",
   "execution_count": null,
   "metadata": {},
   "outputs": [],
   "source": [
    "def affichage_simple_cercle(f, niveaux) :  #niveaux est la liste des courbes de niveaux qu'on veut tracer.\n",
    "    for i in niveaux :\n",
    "        abscisses, ordonnées = contour_simple_cercle(f, i, 0.01)\n",
    "        plt.plot(abscisses, ordonnées)\n",
    "    plt.show()\n",
    "affichage_simple_cercle(f_enonce, [0, 0.5, 1, 1.5])\n",
    "# Remarque : on trouve déjà des temps d'exécution bien plus important que pour la méthode de carrés simples..."
   ]
  },
  {
   "cell_type": "markdown",
   "metadata": {},
   "source": [
    "## La fonction `contour_complexe`"
   ]
  },
  {
   "cell_type": "markdown",
   "metadata": {},
   "source": [
    "**Principe** On quadrille le domaine de définition de f en celulles selon les arguments xc et yc. Or, `simple_contour` (comme nom général pour les trois fonctions codées ci-dessus associées aux trois méthodes développées) ne s'applique que sur des fonctions définies sur [0, 1]²(NB : la méthode des petits carrés peut en fait être exécutée sur tout pavé [a,b] x [c,d] avec a, b, c et d réels mais pour uniformiser les fonctions `contour_complexe`nous n'avons pas profité de cela) : on \"dilate\" donc f via `f_dilatee`, qui est elle définie sur [0, 1]². \\\n",
    "On cherche ensuite un bord d'où peut partir la ligne de niveau. Pour ce faire, on fait \"pivoter\" la fonction f de $\\pi/2$ quatre fois, de sorte que chaque bord se retrouve l'un après l'autre sur le bord gauche. A chaque fois, on applique `simple_contour`.\n",
    "* Si l'ensemble des points renvoyé n'est pas vide, on applique l'opération de pivotage inverse de sorte à retrouver les abscisses et les ordonnées correspondant à f_dilatée.\n",
    "* Sinon, on passe au bord suivant.\n",
    "* S'il n'y a plus de bord à tester, on renvoie un tableau vide : la ligne de niveau soit n'est pas présente dans cette cellule, soit ne coupe aucun des bords. Notons que ce dernier cas peut être evité en maillant suffisamment finement la zone de définition.\n",
    "\n",
    "Finalement, on redécale les abscisses et les ordonnées trouvées vers la celulle de travail initiale. On peut alors renvoyer les listes ainsi construites.\\\n",
    "\\\n",
    "On construit une fonction `contour_complexe` pour chacune des trois méthodes que nous avons proposées."
   ]
  },
  {
   "cell_type": "markdown",
   "metadata": {},
   "source": [
    "### `contour_complexe_carre`"
   ]
  },
  {
   "cell_type": "code",
   "execution_count": 23,
   "metadata": {},
   "outputs": [],
   "source": [
    "def contour_complexe_carre(f, c=0.0, xc=[0.0, 1.0], yc=[0.0, 1.0], delta=0.01, n=70) : #Rappel : n est le nombre de points maximal qu'on accepte de tracer par celulle.\n",
    "    nx, ny = len(xc), len(yc)\n",
    "    xs = []\n",
    "    ys = []\n",
    "    for i in range(nx-1) :\n",
    "        for j in range(ny-1) :\n",
    "            x0, x1 = xc[i], xc[i+1]  #les bornes en x de la cellule\n",
    "            y0, y1 = yc[j], yc[j+1]  #les bornes en y de la cellule\n",
    "\n",
    "            def f_dilatee(x, y) :  #on \"dilate\" f pour qu'elle soit définie sur [O, 1]²\n",
    "                return f(x0 + (x1 - x0)*x, y0 + (y1 - y0)*y)\n",
    "            def g_haut(x, y) :\n",
    "                return f_dilatee(y, 1-x) #fonction f_dilatee pivotée de +pi/2 : le bord du haut devient le bord gauche\n",
    "            def g_droit(x, y) :\n",
    "                return f_dilatee(1-x, 1-y)  #fonction f_dilatee pivotée de +pi : le bord droit devient le bord gauche\n",
    "            def g_bas(x, y) :\n",
    "                return f_dilatee(1-y, x)  #fonction f_dilatee pivotée de +3*pi/2 : le bord du bas devient le bord gauche\n",
    "\n",
    "            abscisses, ordonnées = contour_simple_carre(f_dilatee, c, n)   #BORD GAUCHE\n",
    "            if abscisses.size!=0 : #on a alors aussi forcément ordonnées.size!=0\n",
    "                abscisses_rot, ordonnées_rot = abscisses, ordonnées\n",
    "            else :\n",
    "                abscisses, ordonnées = contour_simple_carre(g_haut, c, n) #BORD HAUT\n",
    "                if abscisses.size!=0 :\n",
    "                    abscisses_rot, ordonnées_rot = ordonnées, 1-abscisses\n",
    "                else :\n",
    "                    abscisses, ordonnées = contour_simple_carre(g_droit, c, n)   #BORD DROIT\n",
    "                    if abscisses.size!=0 :\n",
    "                        abscisses_rot, ordonnées_rot = 1-abscisses, 1-ordonnées\n",
    "                    else :\n",
    "                        abscisses, ordonnées = contour_simple_carre(g_bas, c, n)    #BORD BAS\n",
    "                        if abscisses.size!=0 :\n",
    "                            abscisses_rot, ordonnées_rot = 1-ordonnées, abscisses\n",
    "                        else :   #la ligne de niveau ne coupe aucun des bords du carré\n",
    "                            abscisses_rot, ordonnées_rot = np.array([]), np.array([])\n",
    "            abscisses_décalées = x0 + (x1 - x0)*abscisses_rot  #compression\n",
    "            ordonnées_décalées = y0 + (y1 - y0)*ordonnées_rot\n",
    "            xs.append(abscisses_décalées)\n",
    "            ys.append(ordonnées_décalées)\n",
    "    return xs, ys   #renvoie deux listes vides si f ne prend pas la valeur c sur xc x yc"
   ]
  },
  {
   "cell_type": "code",
   "execution_count": 24,
   "metadata": {},
   "outputs": [
    {
     "name": "stdout",
     "output_type": "stream",
     "text": [
      "La courbe de niveau (c=0) a été finie d'être dessinée sur ce carré.\n",
      "La courbe de niveau (c=0) a été finie d'être dessinée sur ce carré.\n",
      "La courbe de niveau (c=0) a été finie d'être dessinée sur ce carré.\n",
      "La courbe de niveau (c=0) a été finie d'être dessinée sur ce carré.\n",
      "La courbe de niveau (c=0) a été finie d'être dessinée sur ce carré.\n",
      "La courbe de niveau (c=0) a été finie d'être dessinée sur ce carré.\n",
      "La courbe de niveau (c=0) a été finie d'être dessinée sur ce carré.\n",
      "La courbe de niveau (c=0) a été finie d'être dessinée sur ce carré.\n",
      "La courbe de niveau (c=0) a été finie d'être dessinée sur ce carré.\n",
      "La courbe de niveau (c=0) a été finie d'être dessinée sur ce carré.\n",
      "La courbe de niveau (c=0) a été finie d'être dessinée sur ce carré.\n",
      "La courbe de niveau (c=0) a été finie d'être dessinée sur ce carré.\n",
      "La courbe de niveau (c=0) a été finie d'être dessinée sur ce carré.\n",
      "La courbe de niveau (c=0) a été finie d'être dessinée sur ce carré.\n",
      "La courbe de niveau (c=0) a été finie d'être dessinée sur ce carré.\n",
      "La courbe de niveau (c=0) a été finie d'être dessinée sur ce carré.\n",
      "La courbe de niveau (c=0) a été finie d'être dessinée sur ce carré.\n",
      "La courbe de niveau (c=-0.5) a été finie d'être dessinée sur ce carré.\n",
      "La courbe de niveau (c=-0.5) a été finie d'être dessinée sur ce carré.\n",
      "La courbe de niveau (c=-0.5) a été finie d'être dessinée sur ce carré.\n",
      "La courbe de niveau (c=-0.5) a été finie d'être dessinée sur ce carré.\n",
      "La courbe de niveau (c=-0.5) a été finie d'être dessinée sur ce carré.\n",
      "La courbe de niveau (c=-0.5) a été finie d'être dessinée sur ce carré.\n",
      "La courbe de niveau (c=-0.5) a été finie d'être dessinée sur ce carré.\n",
      "La courbe de niveau (c=-0.5) a été finie d'être dessinée sur ce carré.\n",
      "La courbe de niveau (c=-0.5) a été finie d'être dessinée sur ce carré.\n",
      "La courbe de niveau (c=-0.5) a été finie d'être dessinée sur ce carré.\n",
      "La courbe de niveau (c=-0.5) a été finie d'être dessinée sur ce carré.\n",
      "La courbe de niveau (c=-0.5) a été finie d'être dessinée sur ce carré.\n",
      "La courbe de niveau (c=-0.5) a été finie d'être dessinée sur ce carré.\n",
      "La courbe de niveau (c=-0.5) a été finie d'être dessinée sur ce carré.\n",
      "La courbe de niveau (c=-0.5) a été finie d'être dessinée sur ce carré.\n",
      "La courbe de niveau (c=-0.5) a été finie d'être dessinée sur ce carré.\n",
      "La courbe de niveau (c=-0.5) a été finie d'être dessinée sur ce carré.\n",
      "La courbe de niveau (c=0.5) a été finie d'être dessinée sur ce carré.\n",
      "La courbe de niveau (c=0.5) a été finie d'être dessinée sur ce carré.\n",
      "La courbe de niveau (c=0.5) a été finie d'être dessinée sur ce carré.\n",
      "La courbe de niveau (c=0.5) a été finie d'être dessinée sur ce carré.\n",
      "La courbe de niveau (c=0.5) a été finie d'être dessinée sur ce carré.\n",
      "La courbe de niveau (c=0.5) a été finie d'être dessinée sur ce carré.\n",
      "La courbe de niveau (c=0.5) a été finie d'être dessinée sur ce carré.\n",
      "La courbe de niveau (c=0.5) a été finie d'être dessinée sur ce carré.\n",
      "La courbe de niveau (c=0.5) a été finie d'être dessinée sur ce carré.\n",
      "La courbe de niveau (c=0.5) a été finie d'être dessinée sur ce carré.\n",
      "La courbe de niveau (c=0.5) a été finie d'être dessinée sur ce carré.\n",
      "La courbe de niveau (c=0.5) a été finie d'être dessinée sur ce carré.\n",
      "La courbe de niveau (c=0.5) a été finie d'être dessinée sur ce carré.\n",
      "La courbe de niveau (c=0.5) a été finie d'être dessinée sur ce carré.\n",
      "La courbe de niveau (c=0.5) a été finie d'être dessinée sur ce carré.\n",
      "La courbe de niveau (c=0.5) a été finie d'être dessinée sur ce carré.\n",
      "La courbe de niveau (c=0.5) a été finie d'être dessinée sur ce carré.\n"
     ]
    },
    {
     "data": {
      "image/png": "[encoded data removed]",
      "text/plain": [
       "<Figure size 432x288 with 1 Axes>"
      ]
     },
     "metadata": {
      "needs_background": "light"
     },
     "output_type": "display_data"
    }
   ],
   "source": [
    "def affichage_complexe_carre(f, niveaux=[0.0], xc=[0.0, 1.0], yc=[0.0, 1.0], delta=0.011, n=70) :\n",
    "    for c in niveaux :\n",
    "        abscisses, ordonnées = contour_complexe_carre(f, c, xc, yc, delta, n)\n",
    "        for X, Y in zip(abscisses, ordonnées) :\n",
    "            plt.plot(X, Y, 'b')     #si les tables X et Y sont vides, aucun point n'est affiché.\n",
    "    plt.show()\n",
    "affichage_complexe_carre(f_enonce, [0, -0.5, 0.5], xc = np.linspace(-2, 3, 10), yc = np.linspace(-1, 2, 10), n=150)\n",
    "#Rq : avec n=70, toutes les courbes ne sont pas complètes et on trouve des trous dans notre figure finale.\n",
    "# avec n=150, toutes les courbes sont tracées, on obtient moins de trous mais il en reste quelques-uns malgré tout..."
   ]
  },
  {
   "cell_type": "markdown",
   "metadata": {},
   "source": [
    "### `contour_complexe_cercle`"
   ]
  },
  {
   "cell_type": "code",
   "execution_count": 58,
   "metadata": {},
   "outputs": [],
   "source": [
    "def contour_complexe_cercle(f, c=0.0, xc=[0.0, 1.0], yc=[0.0, 1.0], delta=0.01) : #Rappel : n est le nombre de points maximal qu'on accepte de tracer par celulle.\n",
    "    nx, ny = len(xc), len(yc)\n",
    "    xs = []\n",
    "    ys = []\n",
    "    for i in range(nx-1) :\n",
    "        for j in range(ny-1) :\n",
    "            x0, x1 = xc[i], xc[i+1]  #les bornes en x de la cellule\n",
    "            y0, y1 = yc[j], yc[j+1]  #les bornes en y de la cellule\n",
    "\n",
    "            def f_dilatee(x, y) :  #on \"dilate\" f pour qu'elle soit définie sur [O, 1]²\n",
    "                return f(x0 + (x1 - x0)*x, y0 + (y1 - y0)*y)\n",
    "            def g_haut(x, y) :\n",
    "                return f_dilatee(y, 1-x) #fonction f_dilatee pivotée de +pi/2 : le bord du haut devient le bord gauche\n",
    "            def g_droit(x, y) :\n",
    "                return f_dilatee(1-x, 1-y)  #fonction f_dilatee pivotée de +pi : le bord droit devient le bord gauche\n",
    "            def g_bas(x, y) :\n",
    "                return f_dilatee(1-y, x)  #fonction f_dilatee pivotée de +3*pi/2 : le bord du bas devient le bord gauche\n",
    "\n",
    "            abscisses, ordonnées = contour_simple_cercle(f_dilatee, c)   #BORD GAUCHE\n",
    "            if abscisses.size!=0 : #on a alors aussi forcément ordonnées.size!=0\n",
    "                abscisses_rot, ordonnées_rot = abscisses, ordonnées\n",
    "            else :\n",
    "                abscisses, ordonnées = contour_simple_cercle(g_haut, c) #BORD HAUT\n",
    "                if abscisses.size!=0 :\n",
    "                    abscisses_rot, ordonnées_rot = ordonnées, 1-abscisses\n",
    "                else :\n",
    "                    abscisses, ordonnées = contour_simple_cercle(g_droit, c)   #BORD DROIT\n",
    "                    if abscisses.size!=0 :\n",
    "                        abscisses_rot, ordonnées_rot = 1-abscisses, 1-ordonnées\n",
    "                    else :\n",
    "                        abscisses, ordonnées = contour_simple_cercle(g_bas, c)    #BORD BAS\n",
    "                        if abscisses.size!=0 :\n",
    "                            abscisses_rot, ordonnées_rot = 1-ordonnées, abscisses\n",
    "                        else :   #la ligne de niveau ne coupe aucun des bords du carré\n",
    "                            abscisses_rot, ordonnées_rot = np.array([]), np.array([])\n",
    "            abscisses_décalées = x0 + (x1 - x0)*abscisses_rot  #compression\n",
    "            ordonnées_décalées = y0 + (y1 - y0)*ordonnées_rot\n",
    "            xs.append(abscisses_décalées)\n",
    "            ys.append(ordonnées_décalées)\n",
    "    return xs, ys   #renvoie deux listes vides si f ne prend pas la valeur c sur xc x yc"
   ]
  },
  {
   "cell_type": "code",
   "execution_count": 59,
   "metadata": {},
   "outputs": [
    {
     "name": "stdout",
     "output_type": "stream",
     "text": [
      "La recherche de cette ligne de niveau (c=0) est finie !\n",
      "La recherche de cette ligne de niveau (c=0) est finie !\n",
      "La recherche de cette ligne de niveau (c=0) est finie !\n",
      "La recherche de cette ligne de niveau (c=0) est finie !\n",
      "La recherche de cette ligne de niveau (c=0) est finie !\n",
      "La recherche de cette ligne de niveau (c=0) est finie !\n",
      "La recherche de cette ligne de niveau (c=0) est finie !\n",
      "La recherche de cette ligne de niveau (c=0) est finie !\n",
      "La recherche de cette ligne de niveau (c=0) est finie !\n",
      "La recherche de cette ligne de niveau (c=0) est finie !\n",
      "La recherche de cette ligne de niveau (c=0) est finie !\n",
      "La recherche de cette ligne de niveau (c=0) est finie !\n",
      "La recherche de cette ligne de niveau (c=0) est finie !\n",
      "La recherche de cette ligne de niveau (c=0) est finie !\n",
      "La recherche de cette ligne de niveau (c=0) est finie !\n",
      "La recherche de cette ligne de niveau (c=0) est finie !\n",
      "La recherche de cette ligne de niveau (c=-0.5) est finie !\n",
      "Impossible de trouver le point suivant !\n",
      "La recherche de cette ligne de niveau (c=-0.5) est finie !\n",
      "La recherche de cette ligne de niveau (c=-0.5) est finie !\n",
      "La recherche de cette ligne de niveau (c=-0.5) est finie !\n",
      "La recherche de cette ligne de niveau (c=-0.5) est finie !\n",
      "La recherche de cette ligne de niveau (c=-0.5) est finie !\n",
      "La recherche de cette ligne de niveau (c=-0.5) est finie !\n",
      "La recherche de cette ligne de niveau (c=-0.5) est finie !\n",
      "La recherche de cette ligne de niveau (c=-0.5) est finie !\n",
      "La recherche de cette ligne de niveau (c=-0.5) est finie !\n",
      "La recherche de cette ligne de niveau (c=-0.5) est finie !\n",
      "La recherche de cette ligne de niveau (c=-0.5) est finie !\n",
      "La recherche de cette ligne de niveau (c=-0.5) est finie !\n",
      "La recherche de cette ligne de niveau (c=-0.5) est finie !\n",
      "La recherche de cette ligne de niveau (c=-0.5) est finie !\n",
      "La recherche de cette ligne de niveau (c=-0.5) est finie !\n",
      "La recherche de cette ligne de niveau (c=0.5) est finie !\n",
      "La recherche de cette ligne de niveau (c=0.5) est finie !\n",
      "Impossible de trouver le point suivant !\n",
      "La recherche de cette ligne de niveau (c=0.5) est finie !\n",
      "La recherche de cette ligne de niveau (c=0.5) est finie !\n",
      "La recherche de cette ligne de niveau (c=0.5) est finie !\n",
      "La recherche de cette ligne de niveau (c=0.5) est finie !\n",
      "La recherche de cette ligne de niveau (c=0.5) est finie !\n",
      "La recherche de cette ligne de niveau (c=0.5) est finie !\n",
      "La recherche de cette ligne de niveau (c=0.5) est finie !\n",
      "La recherche de cette ligne de niveau (c=0.5) est finie !\n",
      "La recherche de cette ligne de niveau (c=0.5) est finie !\n",
      "La recherche de cette ligne de niveau (c=0.5) est finie !\n",
      "La recherche de cette ligne de niveau (c=0.5) est finie !\n",
      "La recherche de cette ligne de niveau (c=0.5) est finie !\n",
      "La recherche de cette ligne de niveau (c=0.5) est finie !\n",
      "La recherche de cette ligne de niveau (c=0.5) est finie !\n"
     ]
    },
    {
     "data": {
      "image/png": "[encoded data removed]",
      "text/plain": [
       "<Figure size 432x288 with 1 Axes>"
      ]
     },
     "metadata": {
      "needs_background": "light"
     },
     "output_type": "display_data"
    }
   ],
   "source": [
    "def affichage_complexe_cercle(f, niveaux=[0.0], xc=[0.0, 1.0], yc=[0.0, 1.0], delta=0.01) :\n",
    "    for c in niveaux :\n",
    "        abscisses, ordonnées = contour_complexe_cercle(f, c, xc, yc, delta)\n",
    "        for X, Y in zip(abscisses, ordonnées) :\n",
    "            plt.plot(X, Y, 'b')     #si les tables X et Y sont vides, aucun point n'est affiché.\n",
    "    plt.show()\n",
    "\n",
    "affichage_complexe_cercle(f_enonce, [0, -0.5, 0.5], xc = np.linspace(-2, 3, 10), yc = np.linspace(-1, 2, 10))"
   ]
  },
  {
   "cell_type": "markdown",
   "metadata": {},
   "source": [
    "### `contour` déposé sur Discourse"
   ]
  },
  {
   "cell_type": "code",
   "execution_count": 27,
   "metadata": {},
   "outputs": [],
   "source": [
    "##Contour complexe\n",
    "# Rotators\n",
    "# ------------------------------------------------------------------------------\n",
    "LEFT, UP, RIGHT, DOWN = 0, 1, 2, 3  # clockwise\n",
    "\n",
    "\n",
    "def rotate_direction(direction, m=1):\n",
    "    return (direction + m) % 4\n",
    "\n",
    "\n",
    "def rotate(x, y, m=1):\n",
    "    if m == 0:\n",
    "        return x, y\n",
    "    elif m >= 1:\n",
    "        return rotate(1 - y, x, m - 1)\n",
    "    else:\n",
    "        assert m < 0\n",
    "        return rotate(x, y, m=-3 * m)\n",
    "\n",
    "\n",
    "def rotate_function(f, m=1):\n",
    "    def rotated_function(x, y):\n",
    "        xr, yr = rotate(x, y, -m)\n",
    "        return f(xr, yr)\n",
    "\n",
    "    return rotated_function\n",
    "\n",
    "\n",
    "# Complex Contouring\n",
    "# ------------------------------------------------------------------------------\n",
    "\n",
    "# Customize the simple_contour function used in contour :\n",
    "# simple_contour = smart_simple_contour\n",
    "\n",
    "\n",
    "def contour(f, c, xs=[0.0, 1.0], ys=[0.0, 1.0], delta=0.01):\n",
    "    curves = []\n",
    "    nx, ny = len(xs), len(ys)\n",
    "    for i in range(nx - 1):\n",
    "        for j in range(ny - 1):\n",
    "            xmin, xmax = xs[i], xs[i + 1]\n",
    "            ymin, ymax = ys[j], ys[j + 1]\n",
    "\n",
    "            def f_cell(x, y):\n",
    "                return f(xmin + (xmax - xmin) * x, ymin + (ymax - ymin) * y)\n",
    "\n",
    "            done = set()\n",
    "            for m in [0, 1, 2, 3]:\n",
    "                if m not in done:\n",
    "                    rotated_f_cell = rotate_function(f_cell, m)\n",
    "                    x_curve_r, y_curve_r = contour_simple_carre(rotated_f_cell, c, 150)\n",
    "                    exit = None\n",
    "                    if len(x_curve_r) >= 1:\n",
    "                        xf, yf = x_curve_r[-1], y_curve_r[-1]\n",
    "                        if xf == 0.0:\n",
    "                            exit = LEFT\n",
    "                        elif xf == 1.0:\n",
    "                            exit = RIGHT\n",
    "                        elif yf == 0.0:\n",
    "                            exit = DOWN\n",
    "                        elif yf == 1.0:\n",
    "                            exit = UP\n",
    "                    if exit is not None:  # a fully successful contour fragment\n",
    "                        exit = rotate_direction(exit, m)\n",
    "                        done.add(exit)\n",
    "\n",
    "                    x_curve, y_curve = [], []\n",
    "                    for x_r, y_r in zip(x_curve_r, y_curve_r):\n",
    "                        x, y = rotate(x_r, y_r, m=-m)\n",
    "                        x_curve.append(x)\n",
    "                        y_curve.append(y)\n",
    "                    x_curve = np.array(x_curve)\n",
    "                    y_curve = np.array(y_curve)\n",
    "                    curves.append(\n",
    "                        (xmin + (xmax - xmin) * x_curve, ymin + (ymax - ymin) * y_curve)\n",
    "                    )\n",
    "    return curves"
   ]
  },
  {
   "cell_type": "code",
   "execution_count": 28,
   "metadata": {},
   "outputs": [
    {
     "name": "stdout",
     "output_type": "stream",
     "text": [
      "La courbe de niveau (c=0) a été finie d'être dessinée sur ce carré.\n",
      "La courbe de niveau (c=0) a été finie d'être dessinée sur ce carré.\n",
      "La courbe de niveau (c=0) a été finie d'être dessinée sur ce carré.\n",
      "La courbe de niveau (c=0) a été finie d'être dessinée sur ce carré.\n",
      "La courbe de niveau (c=0) a été finie d'être dessinée sur ce carré.\n",
      "La courbe de niveau (c=0) a été finie d'être dessinée sur ce carré.\n",
      "La courbe de niveau (c=0) a été finie d'être dessinée sur ce carré.\n",
      "La courbe de niveau (c=0) a été finie d'être dessinée sur ce carré.\n",
      "La courbe de niveau (c=0) a été finie d'être dessinée sur ce carré.\n",
      "La courbe de niveau (c=0) a été finie d'être dessinée sur ce carré.\n",
      "La courbe de niveau (c=0) a été finie d'être dessinée sur ce carré.\n",
      "La courbe de niveau (c=0) a été finie d'être dessinée sur ce carré.\n",
      "La courbe de niveau (c=0) a été finie d'être dessinée sur ce carré.\n",
      "La courbe de niveau (c=0) a été finie d'être dessinée sur ce carré.\n",
      "La courbe de niveau (c=0) a été finie d'être dessinée sur ce carré.\n",
      "La courbe de niveau (c=0) a été finie d'être dessinée sur ce carré.\n",
      "La courbe de niveau (c=0) a été finie d'être dessinée sur ce carré.\n",
      "La courbe de niveau (c=0) a été finie d'être dessinée sur ce carré.\n",
      "La courbe de niveau (c=0) a été finie d'être dessinée sur ce carré.\n",
      "La courbe de niveau (c=0) a été finie d'être dessinée sur ce carré.\n",
      "La courbe de niveau (c=0) a été finie d'être dessinée sur ce carré.\n",
      "La courbe de niveau (c=0) a été finie d'être dessinée sur ce carré.\n",
      "La courbe de niveau (c=0) a été finie d'être dessinée sur ce carré.\n",
      "La courbe de niveau (c=0) a été finie d'être dessinée sur ce carré.\n",
      "La courbe de niveau (c=0) a été finie d'être dessinée sur ce carré.\n",
      "La courbe de niveau (c=0) a été finie d'être dessinée sur ce carré.\n",
      "La courbe de niveau (c=0) a été finie d'être dessinée sur ce carré.\n",
      "La courbe de niveau (c=0) a été finie d'être dessinée sur ce carré.\n",
      "La courbe de niveau (c=0) a été finie d'être dessinée sur ce carré.\n",
      "La courbe de niveau (c=0) a été finie d'être dessinée sur ce carré.\n",
      "La courbe de niveau (c=-0.5) a été finie d'être dessinée sur ce carré.\n",
      "La courbe de niveau (c=-0.5) a été finie d'être dessinée sur ce carré.\n",
      "La courbe de niveau (c=-0.5) a été finie d'être dessinée sur ce carré.\n",
      "La courbe de niveau (c=-0.5) a été finie d'être dessinée sur ce carré.\n",
      "La courbe de niveau (c=-0.5) a été finie d'être dessinée sur ce carré.\n",
      "La courbe de niveau (c=-0.5) a été finie d'être dessinée sur ce carré.\n",
      "La courbe de niveau (c=-0.5) a été finie d'être dessinée sur ce carré.\n",
      "La courbe de niveau (c=-0.5) a été finie d'être dessinée sur ce carré.\n",
      "La courbe de niveau (c=-0.5) a été finie d'être dessinée sur ce carré.\n",
      "La courbe de niveau (c=-0.5) a été finie d'être dessinée sur ce carré.\n",
      "La courbe de niveau (c=-0.5) a été finie d'être dessinée sur ce carré.\n",
      "La courbe de niveau (c=-0.5) a été finie d'être dessinée sur ce carré.\n",
      "La courbe de niveau (c=-0.5) a été finie d'être dessinée sur ce carré.\n",
      "La courbe de niveau (c=-0.5) a été finie d'être dessinée sur ce carré.\n",
      "La courbe de niveau (c=-0.5) a été finie d'être dessinée sur ce carré.\n",
      "La courbe de niveau (c=-0.5) a été finie d'être dessinée sur ce carré.\n",
      "La courbe de niveau (c=-0.5) a été finie d'être dessinée sur ce carré.\n",
      "La courbe de niveau (c=-0.5) a été finie d'être dessinée sur ce carré.\n",
      "La courbe de niveau (c=-0.5) a été finie d'être dessinée sur ce carré.\n",
      "La courbe de niveau (c=-0.5) a été finie d'être dessinée sur ce carré.\n",
      "La courbe de niveau (c=-0.5) a été finie d'être dessinée sur ce carré.\n",
      "La courbe de niveau (c=-0.5) a été finie d'être dessinée sur ce carré.\n",
      "La courbe de niveau (c=-0.5) a été finie d'être dessinée sur ce carré.\n",
      "La courbe de niveau (c=-0.5) a été finie d'être dessinée sur ce carré.\n",
      "La courbe de niveau (c=-0.5) a été finie d'être dessinée sur ce carré.\n",
      "La courbe de niveau (c=-0.5) a été finie d'être dessinée sur ce carré.\n",
      "La courbe de niveau (c=-0.5) a été finie d'être dessinée sur ce carré.\n",
      "La courbe de niveau (c=-0.5) a été finie d'être dessinée sur ce carré.\n",
      "La courbe de niveau (c=-0.5) a été finie d'être dessinée sur ce carré.\n",
      "La courbe de niveau (c=-0.5) a été finie d'être dessinée sur ce carré.\n",
      "La courbe de niveau (c=-0.5) a été finie d'être dessinée sur ce carré.\n",
      "La courbe de niveau (c=-0.5) a été finie d'être dessinée sur ce carré.\n",
      "La courbe de niveau (c=-0.5) a été finie d'être dessinée sur ce carré.\n",
      "La courbe de niveau (c=-0.5) a été finie d'être dessinée sur ce carré.\n",
      "La courbe de niveau (c=0.5) a été finie d'être dessinée sur ce carré.\n",
      "La courbe de niveau (c=0.5) a été finie d'être dessinée sur ce carré.\n",
      "La courbe de niveau (c=0.5) a été finie d'être dessinée sur ce carré.\n",
      "La courbe de niveau (c=0.5) a été finie d'être dessinée sur ce carré.\n",
      "La courbe de niveau (c=0.5) a été finie d'être dessinée sur ce carré.\n",
      "La courbe de niveau (c=0.5) a été finie d'être dessinée sur ce carré.\n",
      "La courbe de niveau (c=0.5) a été finie d'être dessinée sur ce carré.\n",
      "La courbe de niveau (c=0.5) a été finie d'être dessinée sur ce carré.\n",
      "La courbe de niveau (c=0.5) a été finie d'être dessinée sur ce carré.\n",
      "La courbe de niveau (c=0.5) a été finie d'être dessinée sur ce carré.\n",
      "La courbe de niveau (c=0.5) a été finie d'être dessinée sur ce carré.\n",
      "La courbe de niveau (c=0.5) a été finie d'être dessinée sur ce carré.\n",
      "La courbe de niveau (c=0.5) a été finie d'être dessinée sur ce carré.\n",
      "La courbe de niveau (c=0.5) a été finie d'être dessinée sur ce carré.\n",
      "La courbe de niveau (c=0.5) a été finie d'être dessinée sur ce carré.\n",
      "La courbe de niveau (c=0.5) a été finie d'être dessinée sur ce carré.\n",
      "La courbe de niveau (c=0.5) a été finie d'être dessinée sur ce carré.\n",
      "La courbe de niveau (c=0.5) a été finie d'être dessinée sur ce carré.\n",
      "La courbe de niveau (c=0.5) a été finie d'être dessinée sur ce carré.\n",
      "La courbe de niveau (c=0.5) a été finie d'être dessinée sur ce carré.\n",
      "La courbe de niveau (c=0.5) a été finie d'être dessinée sur ce carré.\n",
      "La courbe de niveau (c=0.5) a été finie d'être dessinée sur ce carré.\n",
      "La courbe de niveau (c=0.5) a été finie d'être dessinée sur ce carré.\n",
      "La courbe de niveau (c=0.5) a été finie d'être dessinée sur ce carré.\n",
      "La courbe de niveau (c=0.5) a été finie d'être dessinée sur ce carré.\n",
      "La courbe de niveau (c=0.5) a été finie d'être dessinée sur ce carré.\n",
      "La courbe de niveau (c=0.5) a été finie d'être dessinée sur ce carré.\n",
      "La courbe de niveau (c=0.5) a été finie d'être dessinée sur ce carré.\n",
      "La courbe de niveau (c=0.5) a été finie d'être dessinée sur ce carré.\n",
      "La courbe de niveau (c=0.5) a été finie d'être dessinée sur ce carré.\n",
      "La courbe de niveau (c=0.5) a été finie d'être dessinée sur ce carré.\n",
      "La courbe de niveau (c=0.5) a été finie d'être dessinée sur ce carré.\n",
      "La courbe de niveau (c=0.5) a été finie d'être dessinée sur ce carré.\n",
      "La courbe de niveau (c=0.5) a été finie d'être dessinée sur ce carré.\n"
     ]
    },
    {
     "data": {
      "image/png": "[encoded data removed]",
      "text/plain": [
       "<Figure size 432x288 with 1 Axes>"
      ]
     },
     "metadata": {
      "needs_background": "light"
     },
     "output_type": "display_data"
    }
   ],
   "source": [
    "def affichage_complexe_discourse(f, niveaux=[0.0], xc=[0.0, 1.0], yc=[0.0, 1.0], delta=0.01) :\n",
    "    for c in niveaux :\n",
    "        level_curves = contour(f, c, xc, yc, delta=0.01)\n",
    "        for X, Y in level_curves :\n",
    "            plt.plot(X, Y, 'b')     #si les tables X et Y sont vides, aucun point n'est affiché.\n",
    "    plt.show()\n",
    "\n",
    "affichage_complexe_discourse(f_enonce, [0, -0.5, 0.5], xc = np.linspace(-2, 3, 10), yc = np.linspace(-1, 2, 10))"
   ]
  },
  {
   "cell_type": "markdown",
   "metadata": {},
   "source": [
    "## Comparaison des temps d'exécution"
   ]
  },
  {
   "cell_type": "markdown",
   "metadata": {},
   "source": [
    "**Conformément à ce qu'on nous a conseillé de faire lors du tutorat du mardi 22/10**, nous avons construit plusieurs méthodes différentes afin de comparer, *in fine*, leurs temps d'exécution respectifs.\\\n",
    "Nous ne réalisons pas de moyenne sur le temps d'exécution car celui-ci est déjà plutôt long. Faire une moyenne serait, certes, plus pertinent, mais demanderait aussi beaucoup trop de temps."
   ]
  },
  {
   "cell_type": "code",
   "execution_count": 66,
   "metadata": {},
   "outputs": [],
   "source": [
    "import timeit\n",
    "def f_simple(x, y) :\n",
    "    return x**2 + y**2  #on va tester sur une fonction simple"
   ]
  },
  {
   "cell_type": "code",
   "execution_count": 67,
   "metadata": {},
   "outputs": [
    {
     "name": "stdout",
     "output_type": "stream",
     "text": [
      "La courbe de niveau (c=0.2) n'a pas été finie d'être dessinée sur ce carré.\n",
      "La courbe de niveau (c=0.2) n'a pas été finie d'être dessinée sur ce carré.\n",
      "La courbe de niveau (c=0.2) n'a pas été finie d'être dessinée sur ce carré.\n",
      "La courbe de niveau (c=0.2) n'a pas été finie d'être dessinée sur ce carré.\n",
      "La courbe de niveau (c=0.2) a été finie d'être dessinée sur ce carré.\n",
      "La courbe de niveau (c=0.2) a été finie d'être dessinée sur ce carré.\n",
      "La courbe de niveau (c=0.2) n'a pas été finie d'être dessinée sur ce carré.\n",
      "La courbe de niveau (c=0.2) n'a pas été finie d'être dessinée sur ce carré.\n",
      "La courbe de niveau (c=0.2) n'a pas été finie d'être dessinée sur ce carré.\n",
      "La courbe de niveau (c=0.2) n'a pas été finie d'être dessinée sur ce carré.\n",
      "La courbe de niveau (c=0.2) a été finie d'être dessinée sur ce carré.\n",
      "La courbe de niveau (c=0.2) a été finie d'être dessinée sur ce carré.\n",
      "La courbe de niveau (c=0.2) n'a pas été finie d'être dessinée sur ce carré.\n",
      "La courbe de niveau (c=0.2) n'a pas été finie d'être dessinée sur ce carré.\n",
      "La courbe de niveau (c=0.2) n'a pas été finie d'être dessinée sur ce carré.\n",
      "La courbe de niveau (c=0.2) a été finie d'être dessinée sur ce carré.\n",
      "La courbe de niveau (c=0.5) a été finie d'être dessinée sur ce carré.\n",
      "La courbe de niveau (c=0.5) n'a pas été finie d'être dessinée sur ce carré.\n",
      "La courbe de niveau (c=0.5) n'a pas été finie d'être dessinée sur ce carré.\n",
      "La courbe de niveau (c=0.5) n'a pas été finie d'être dessinée sur ce carré.\n",
      "La courbe de niveau (c=0.5) a été finie d'être dessinée sur ce carré.\n",
      "La courbe de niveau (c=0.5) a été finie d'être dessinée sur ce carré.\n",
      "La courbe de niveau (c=0.5) a été finie d'être dessinée sur ce carré.\n",
      "La courbe de niveau (c=0.5) a été finie d'être dessinée sur ce carré.\n",
      "La courbe de niveau (c=0.5) a été finie d'être dessinée sur ce carré.\n",
      "La courbe de niveau (c=0.5) n'a pas été finie d'être dessinée sur ce carré.\n",
      "La courbe de niveau (c=0.5) n'a pas été finie d'être dessinée sur ce carré.\n",
      "La courbe de niveau (c=0.5) n'a pas été finie d'être dessinée sur ce carré.\n",
      "La courbe de niveau (c=0.5) n'a pas été finie d'être dessinée sur ce carré.\n",
      "La courbe de niveau (c=0.5) n'a pas été finie d'être dessinée sur ce carré.\n",
      "La courbe de niveau (c=0.5) n'a pas été finie d'être dessinée sur ce carré.\n",
      "La courbe de niveau (c=0.5) a été finie d'être dessinée sur ce carré.\n",
      "La courbe de niveau (c=0.5) a été finie d'être dessinée sur ce carré.\n",
      "La courbe de niveau (c=0.5) a été finie d'être dessinée sur ce carré.\n",
      "La courbe de niveau (c=0.5) a été finie d'être dessinée sur ce carré.\n",
      "La courbe de niveau (c=0.5) a été finie d'être dessinée sur ce carré.\n",
      "La courbe de niveau (c=0.5) n'a pas été finie d'être dessinée sur ce carré.\n",
      "La courbe de niveau (c=0.5) n'a pas été finie d'être dessinée sur ce carré.\n",
      "La courbe de niveau (c=0.5) n'a pas été finie d'être dessinée sur ce carré.\n",
      "La courbe de niveau (c=0.5) a été finie d'être dessinée sur ce carré.\n",
      "La courbe de niveau (c=1) a été finie d'être dessinée sur ce carré.\n",
      "La courbe de niveau (c=1) n'a pas été finie d'être dessinée sur ce carré.\n",
      "La courbe de niveau (c=1) n'a pas été finie d'être dessinée sur ce carré.\n",
      "La courbe de niveau (c=1) a été finie d'être dessinée sur ce carré.\n",
      "La courbe de niveau (c=1) n'a pas été finie d'être dessinée sur ce carré.\n",
      "La courbe de niveau (c=1) n'a pas été finie d'être dessinée sur ce carré.\n",
      "La courbe de niveau (c=1) a été finie d'être dessinée sur ce carré.\n",
      "La courbe de niveau (c=1) a été finie d'être dessinée sur ce carré.\n",
      "La courbe de niveau (c=1) a été finie d'être dessinée sur ce carré.\n",
      "La courbe de niveau (c=1) a été finie d'être dessinée sur ce carré.\n",
      "La courbe de niveau (c=1) a été finie d'être dessinée sur ce carré.\n",
      "La courbe de niveau (c=1) n'a pas été finie d'être dessinée sur ce carré.\n",
      "La courbe de niveau (c=1) n'a pas été finie d'être dessinée sur ce carré.\n",
      "La courbe de niveau (c=1) n'a pas été finie d'être dessinée sur ce carré.\n",
      "La courbe de niveau (c=1) n'a pas été finie d'être dessinée sur ce carré.\n",
      "La courbe de niveau (c=1) a été finie d'être dessinée sur ce carré.\n",
      "La courbe de niveau (c=1) a été finie d'être dessinée sur ce carré.\n",
      "La courbe de niveau (c=1) n'a pas été finie d'être dessinée sur ce carré.\n",
      "La courbe de niveau (c=1) n'a pas été finie d'être dessinée sur ce carré.\n",
      "La courbe de niveau (c=1) n'a pas été finie d'être dessinée sur ce carré.\n",
      "La courbe de niveau (c=1) n'a pas été finie d'être dessinée sur ce carré.\n",
      "La courbe de niveau (c=1) a été finie d'être dessinée sur ce carré.\n",
      "La courbe de niveau (c=1) a été finie d'être dessinée sur ce carré.\n",
      "La courbe de niveau (c=1) a été finie d'être dessinée sur ce carré.\n",
      "La courbe de niveau (c=1) a été finie d'être dessinée sur ce carré.\n",
      "La courbe de niveau (c=1) a été finie d'être dessinée sur ce carré.\n",
      "La courbe de niveau (c=1) n'a pas été finie d'être dessinée sur ce carré.\n",
      "La courbe de niveau (c=1) n'a pas été finie d'être dessinée sur ce carré.\n",
      "La courbe de niveau (c=1) a été finie d'être dessinée sur ce carré.\n",
      "La courbe de niveau (c=1) n'a pas été finie d'être dessinée sur ce carré.\n",
      "La courbe de niveau (c=1) n'a pas été finie d'être dessinée sur ce carré.\n",
      "La courbe de niveau (c=1) a été finie d'être dessinée sur ce carré.\n"
     ]
    },
    {
     "data": {
      "image/png": "[encoded data removed]",
      "text/plain": [
       "<Figure size 432x288 with 1 Axes>"
      ]
     },
     "metadata": {
      "needs_background": "light"
     },
     "output_type": "display_data"
    },
    {
     "ename": "ValueError",
     "evalue": "stmt is neither a string nor callable",
     "output_type": "error",
     "traceback": [
      "\u001b[1;31m---------------------------------------------------------------------------\u001b[0m",
      "\u001b[1;31mValueError\u001b[0m                                Traceback (most recent call last)",
      "\u001b[1;32m<ipython-input-67-ab2d2040452b>\u001b[0m in \u001b[0;36m<module>\u001b[1;34m\u001b[0m\n\u001b[1;32m----> 1\u001b[1;33m \u001b[0melapsed_time_carre\u001b[0m \u001b[1;33m=\u001b[0m \u001b[0mtimeit\u001b[0m\u001b[1;33m.\u001b[0m\u001b[0mtimeit\u001b[0m\u001b[1;33m(\u001b[0m\u001b[0maffichage_complexe_carre\u001b[0m\u001b[1;33m(\u001b[0m\u001b[0mf_simple\u001b[0m\u001b[1;33m,\u001b[0m \u001b[1;33m[\u001b[0m\u001b[1;36m0\u001b[0m\u001b[1;33m,\u001b[0m \u001b[1;36m0.2\u001b[0m\u001b[1;33m,\u001b[0m \u001b[1;36m0.5\u001b[0m\u001b[1;33m,\u001b[0m \u001b[1;36m1\u001b[0m\u001b[1;33m]\u001b[0m\u001b[1;33m,\u001b[0m \u001b[0mxc\u001b[0m\u001b[1;33m=\u001b[0m\u001b[0mnp\u001b[0m\u001b[1;33m.\u001b[0m\u001b[0mlinspace\u001b[0m\u001b[1;33m(\u001b[0m\u001b[1;33m-\u001b[0m\u001b[1;36m1\u001b[0m\u001b[1;33m,\u001b[0m \u001b[1;36m1\u001b[0m\u001b[1;33m,\u001b[0m \u001b[1;36m10\u001b[0m\u001b[1;33m)\u001b[0m\u001b[1;33m,\u001b[0m \u001b[0myc\u001b[0m\u001b[1;33m=\u001b[0m\u001b[0mnp\u001b[0m\u001b[1;33m.\u001b[0m\u001b[0mlinspace\u001b[0m\u001b[1;33m(\u001b[0m\u001b[1;33m-\u001b[0m\u001b[1;36m1\u001b[0m\u001b[1;33m,\u001b[0m \u001b[1;36m1\u001b[0m\u001b[1;33m,\u001b[0m \u001b[1;36m10\u001b[0m\u001b[1;33m)\u001b[0m\u001b[1;33m)\u001b[0m\u001b[1;33m)\u001b[0m\u001b[1;33m\u001b[0m\u001b[1;33m\u001b[0m\u001b[0m\n\u001b[0m\u001b[0;32m      2\u001b[0m \u001b[0melapsed_time_cercle\u001b[0m \u001b[1;33m=\u001b[0m \u001b[0mtimeit\u001b[0m\u001b[1;33m.\u001b[0m\u001b[0mtimeit\u001b[0m\u001b[1;33m(\u001b[0m\u001b[0maffichage_complexe_cercle\u001b[0m\u001b[1;33m(\u001b[0m\u001b[0mf_simple\u001b[0m\u001b[1;33m,\u001b[0m \u001b[1;33m[\u001b[0m\u001b[1;36m0\u001b[0m\u001b[1;33m,\u001b[0m \u001b[1;36m0.2\u001b[0m\u001b[1;33m,\u001b[0m \u001b[1;36m0.5\u001b[0m\u001b[1;33m,\u001b[0m \u001b[1;36m1\u001b[0m\u001b[1;33m]\u001b[0m\u001b[1;33m,\u001b[0m \u001b[0mxc\u001b[0m\u001b[1;33m=\u001b[0m\u001b[0mnp\u001b[0m\u001b[1;33m.\u001b[0m\u001b[0mlinspace\u001b[0m\u001b[1;33m(\u001b[0m\u001b[1;33m-\u001b[0m\u001b[1;36m1\u001b[0m\u001b[1;33m,\u001b[0m \u001b[1;36m1\u001b[0m\u001b[1;33m,\u001b[0m \u001b[1;36m10\u001b[0m\u001b[1;33m)\u001b[0m\u001b[1;33m,\u001b[0m \u001b[0myc\u001b[0m\u001b[1;33m=\u001b[0m\u001b[0mnp\u001b[0m\u001b[1;33m.\u001b[0m\u001b[0mlinspace\u001b[0m\u001b[1;33m(\u001b[0m\u001b[1;33m-\u001b[0m\u001b[1;36m1\u001b[0m\u001b[1;33m,\u001b[0m \u001b[1;36m1\u001b[0m\u001b[1;33m,\u001b[0m \u001b[1;36m10\u001b[0m\u001b[1;33m)\u001b[0m\u001b[1;33m)\u001b[0m\u001b[1;33m)\u001b[0m\u001b[1;33m\u001b[0m\u001b[1;33m\u001b[0m\u001b[0m\n\u001b[0;32m      3\u001b[0m \u001b[0mprint\u001b[0m\u001b[1;33m(\u001b[0m\u001b[1;34mf\"carrés :{elapsed_time_carre} VS cercles : {elapsed_time_cercle}\"\u001b[0m\u001b[1;33m)\u001b[0m\u001b[1;33m\u001b[0m\u001b[1;33m\u001b[0m\u001b[0m\n",
      "\u001b[1;32m~\\Miniconda3\\lib\\timeit.py\u001b[0m in \u001b[0;36mtimeit\u001b[1;34m(stmt, setup, timer, number, globals)\u001b[0m\n\u001b[0;32m    230\u001b[0m            number=default_number, globals=None):\n\u001b[0;32m    231\u001b[0m     \u001b[1;34m\"\"\"Convenience function to create Timer object and call timeit method.\"\"\"\u001b[0m\u001b[1;33m\u001b[0m\u001b[1;33m\u001b[0m\u001b[0m\n\u001b[1;32m--> 232\u001b[1;33m     \u001b[1;32mreturn\u001b[0m \u001b[0mTimer\u001b[0m\u001b[1;33m(\u001b[0m\u001b[0mstmt\u001b[0m\u001b[1;33m,\u001b[0m \u001b[0msetup\u001b[0m\u001b[1;33m,\u001b[0m \u001b[0mtimer\u001b[0m\u001b[1;33m,\u001b[0m \u001b[0mglobals\u001b[0m\u001b[1;33m)\u001b[0m\u001b[1;33m.\u001b[0m\u001b[0mtimeit\u001b[0m\u001b[1;33m(\u001b[0m\u001b[0mnumber\u001b[0m\u001b[1;33m)\u001b[0m\u001b[1;33m\u001b[0m\u001b[1;33m\u001b[0m\u001b[0m\n\u001b[0m\u001b[0;32m    233\u001b[0m \u001b[1;33m\u001b[0m\u001b[0m\n\u001b[0;32m    234\u001b[0m def repeat(stmt=\"pass\", setup=\"pass\", timer=default_timer,\n",
      "\u001b[1;32m~\\Miniconda3\\lib\\timeit.py\u001b[0m in \u001b[0;36m__init__\u001b[1;34m(self, stmt, setup, timer, globals)\u001b[0m\n\u001b[0;32m    126\u001b[0m             \u001b[0mstmt\u001b[0m \u001b[1;33m=\u001b[0m \u001b[1;34m'_stmt()'\u001b[0m\u001b[1;33m\u001b[0m\u001b[1;33m\u001b[0m\u001b[0m\n\u001b[0;32m    127\u001b[0m         \u001b[1;32melse\u001b[0m\u001b[1;33m:\u001b[0m\u001b[1;33m\u001b[0m\u001b[1;33m\u001b[0m\u001b[0m\n\u001b[1;32m--> 128\u001b[1;33m             \u001b[1;32mraise\u001b[0m \u001b[0mValueError\u001b[0m\u001b[1;33m(\u001b[0m\u001b[1;34m\"stmt is neither a string nor callable\"\u001b[0m\u001b[1;33m)\u001b[0m\u001b[1;33m\u001b[0m\u001b[1;33m\u001b[0m\u001b[0m\n\u001b[0m\u001b[0;32m    129\u001b[0m         \u001b[0msrc\u001b[0m \u001b[1;33m=\u001b[0m \u001b[0mtemplate\u001b[0m\u001b[1;33m.\u001b[0m\u001b[0mformat\u001b[0m\u001b[1;33m(\u001b[0m\u001b[0mstmt\u001b[0m\u001b[1;33m=\u001b[0m\u001b[0mstmt\u001b[0m\u001b[1;33m,\u001b[0m \u001b[0msetup\u001b[0m\u001b[1;33m=\u001b[0m\u001b[0msetup\u001b[0m\u001b[1;33m,\u001b[0m \u001b[0minit\u001b[0m\u001b[1;33m=\u001b[0m\u001b[0minit\u001b[0m\u001b[1;33m)\u001b[0m\u001b[1;33m\u001b[0m\u001b[1;33m\u001b[0m\u001b[0m\n\u001b[0;32m    130\u001b[0m         \u001b[0mself\u001b[0m\u001b[1;33m.\u001b[0m\u001b[0msrc\u001b[0m \u001b[1;33m=\u001b[0m \u001b[0msrc\u001b[0m  \u001b[1;31m# Save for traceback display\u001b[0m\u001b[1;33m\u001b[0m\u001b[1;33m\u001b[0m\u001b[0m\n",
      "\u001b[1;31mValueError\u001b[0m: stmt is neither a string nor callable"
     ]
    }
   ],
   "source": [
    "elapsed_time_carre = timeit.timeit(affichage_complexe_carre(f_simple, [0, 0.2, 0.5, 1], xc=np.linspace(-1, 1, 10), yc=np.linspace(-1, 1, 10)))\n",
    "elapsed_time_cercle = timeit.timeit(affichage_complexe_cercle(f_simple, [0, 0.2, 0.5, 1], xc=np.linspace(-1, 1, 10), yc=np.linspace(-1, 1, 10)))\n",
    "print(f\"carrés :{elapsed_time_carre} VS cercles : {elapsed_time_cercle}\")"
   ]
  },
  {
   "cell_type": "markdown",
   "metadata": {},
   "source": [
    "## Difficultés rencontrées"
   ]
  },
  {
   "cell_type": "markdown",
   "metadata": {},
   "source": [
    "Nous n'avons pas rencontré de véritable échec puisque nos trois idées ont finalement abouti. Néanmoins nous avons eu des difficultés pour :\n",
    "- écrire et débugger la méthode des petits carrés (complexité dû au nombre de fonctions impliquées et à la particularisation des cas - cas initial, cas selon le nombre de problèmes, etc.). C'est notamment face à cette méthode longue à écrire et à débugger que nous avons choisi de développer une autre méthode plus simple mais plus précise que le scan : celle des petits cercles.\n",
    "- écrire à 2 un code faisant intervenir de nombreuses variables (ordre d'appel des paramètres dans les fonctions, imbrication des fonctions,...)\n"
   ]
  }
 ],
 "metadata": {
  "kernelspec": {
   "display_name": "Python 3",
   "language": "python",
   "name": "python3"
  },
  "language_info": {
   "codemirror_mode": {
    "name": "ipython",
    "version": 3
   },
   "file_extension": ".py",
   "mimetype": "text/x-python",
   "name": "python",
   "nbconvert_exporter": "python",
   "pygments_lexer": "ipython3",
   "version": "3.7.3"
  }
 },
 "nbformat": 4,
 "nbformat_minor": 2
}
